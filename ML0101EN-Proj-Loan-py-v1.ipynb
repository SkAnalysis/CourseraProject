{
 "cells": [
  {
   "cell_type": "markdown",
   "metadata": {
    "button": false,
    "new_sheet": false,
    "run_control": {
     "read_only": false
    }
   },
   "source": [
    "<center>\n",
    "    <img src=\"https://cf-courses-data.s3.us.cloud-object-storage.appdomain.cloud/IBMDeveloperSkillsNetwork-ML0101EN-SkillsNetwork/labs/FinalModule_Coursera/images/IDSNlogo.png\" width=\"300\" alt=\"cognitiveclass.ai logo\"  />\n",
    "</center>\n",
    "\n",
    "<h1 align=\"center\"><font size=\"5\">Classification with Python</font></h1>\n"
   ]
  },
  {
   "cell_type": "markdown",
   "metadata": {
    "button": false,
    "new_sheet": false,
    "run_control": {
     "read_only": false
    }
   },
   "source": [
    "In this notebook we try to practice all the classification algorithms that we have learned in this course.\n",
    "\n",
    "We load a dataset using Pandas library, and apply the following algorithms, and find the best one for this specific dataset by accuracy evaluation methods.\n",
    "\n",
    "Let's first load required libraries:\n"
   ]
  },
  {
   "cell_type": "code",
   "execution_count": 1,
   "metadata": {
    "button": false,
    "new_sheet": false,
    "run_control": {
     "read_only": false
    }
   },
   "outputs": [],
   "source": [
    "import itertools\n",
    "import numpy as np\n",
    "import matplotlib.pyplot as plt\n",
    "from matplotlib.ticker import NullFormatter\n",
    "import pandas as pd\n",
    "import numpy as np\n",
    "import matplotlib.ticker as ticker\n",
    "from sklearn import preprocessing\n",
    "%matplotlib inline"
   ]
  },
  {
   "cell_type": "markdown",
   "metadata": {
    "button": false,
    "new_sheet": false,
    "run_control": {
     "read_only": false
    }
   },
   "source": [
    "### About dataset\n"
   ]
  },
  {
   "cell_type": "markdown",
   "metadata": {
    "button": false,
    "new_sheet": false,
    "run_control": {
     "read_only": false
    }
   },
   "source": [
    "This dataset is about past loans. The **Loan_train.csv** data set includes details of 346 customers whose loan are already paid off or defaulted. It includes following fields:\n",
    "\n",
    "| Field          | Description                                                                           |\n",
    "| -------------- | ------------------------------------------------------------------------------------- |\n",
    "| Loan_status    | Whether a loan is paid off on in collection                                           |\n",
    "| Principal      | Basic principal loan amount at the                                                    |\n",
    "| Terms          | Origination terms which can be weekly (7 days), biweekly, and monthly payoff schedule |\n",
    "| Effective_date | When the loan got originated and took effects                                         |\n",
    "| Due_date       | Since it’s one-time payoff schedule, each loan has one single due date                |\n",
    "| Age            | Age of applicant                                                                      |\n",
    "| Education      | Education of applicant                                                                |\n",
    "| Gender         | The gender of applicant                                                               |\n"
   ]
  },
  {
   "cell_type": "markdown",
   "metadata": {
    "button": false,
    "new_sheet": false,
    "run_control": {
     "read_only": false
    }
   },
   "source": [
    "Let's download the dataset\n"
   ]
  },
  {
   "cell_type": "code",
   "execution_count": 2,
   "metadata": {
    "button": false,
    "new_sheet": false,
    "run_control": {
     "read_only": false
    }
   },
   "outputs": [
    {
     "name": "stderr",
     "output_type": "stream",
     "text": [
      "--2021-11-29 16:12:56--  https://cf-courses-data.s3.us.cloud-object-storage.appdomain.cloud/IBMDeveloperSkillsNetwork-ML0101EN-SkillsNetwork/labs/FinalModule_Coursera/data/loan_train.csv\n",
      "Resolving cf-courses-data.s3.us.cloud-object-storage.appdomain.cloud (cf-courses-data.s3.us.cloud-object-storage.appdomain.cloud)... 169.63.118.104\n",
      "Connecting to cf-courses-data.s3.us.cloud-object-storage.appdomain.cloud (cf-courses-data.s3.us.cloud-object-storage.appdomain.cloud)|169.63.118.104|:443... connected.\n",
      "HTTP request sent, awaiting response... 200 OK\n",
      "Length: 23101 (23K) [text/csv]\n",
      "Saving to: 'loan_train.csv'\n",
      "\n",
      "     0K .......... .......... ..                              100% 1,66M=0,01s\n",
      "\n",
      "2021-11-29 16:12:57 (1,66 MB/s) - 'loan_train.csv' saved [23101/23101]\n",
      "\n"
     ]
    }
   ],
   "source": [
    "!wget -O loan_train.csv https://cf-courses-data.s3.us.cloud-object-storage.appdomain.cloud/IBMDeveloperSkillsNetwork-ML0101EN-SkillsNetwork/labs/FinalModule_Coursera/data/loan_train.csv"
   ]
  },
  {
   "cell_type": "markdown",
   "metadata": {
    "button": false,
    "new_sheet": false,
    "run_control": {
     "read_only": false
    }
   },
   "source": [
    "### Load Data From CSV File\n"
   ]
  },
  {
   "cell_type": "code",
   "execution_count": 3,
   "metadata": {
    "button": false,
    "new_sheet": false,
    "run_control": {
     "read_only": false
    }
   },
   "outputs": [
    {
     "data": {
      "text/html": [
       "<div>\n",
       "<style scoped>\n",
       "    .dataframe tbody tr th:only-of-type {\n",
       "        vertical-align: middle;\n",
       "    }\n",
       "\n",
       "    .dataframe tbody tr th {\n",
       "        vertical-align: top;\n",
       "    }\n",
       "\n",
       "    .dataframe thead th {\n",
       "        text-align: right;\n",
       "    }\n",
       "</style>\n",
       "<table border=\"1\" class=\"dataframe\">\n",
       "  <thead>\n",
       "    <tr style=\"text-align: right;\">\n",
       "      <th></th>\n",
       "      <th>Unnamed: 0</th>\n",
       "      <th>Unnamed: 0.1</th>\n",
       "      <th>loan_status</th>\n",
       "      <th>Principal</th>\n",
       "      <th>terms</th>\n",
       "      <th>effective_date</th>\n",
       "      <th>due_date</th>\n",
       "      <th>age</th>\n",
       "      <th>education</th>\n",
       "      <th>Gender</th>\n",
       "    </tr>\n",
       "  </thead>\n",
       "  <tbody>\n",
       "    <tr>\n",
       "      <th>0</th>\n",
       "      <td>0</td>\n",
       "      <td>0</td>\n",
       "      <td>PAIDOFF</td>\n",
       "      <td>1000</td>\n",
       "      <td>30</td>\n",
       "      <td>9/8/2016</td>\n",
       "      <td>10/7/2016</td>\n",
       "      <td>45</td>\n",
       "      <td>High School or Below</td>\n",
       "      <td>male</td>\n",
       "    </tr>\n",
       "    <tr>\n",
       "      <th>1</th>\n",
       "      <td>2</td>\n",
       "      <td>2</td>\n",
       "      <td>PAIDOFF</td>\n",
       "      <td>1000</td>\n",
       "      <td>30</td>\n",
       "      <td>9/8/2016</td>\n",
       "      <td>10/7/2016</td>\n",
       "      <td>33</td>\n",
       "      <td>Bechalor</td>\n",
       "      <td>female</td>\n",
       "    </tr>\n",
       "    <tr>\n",
       "      <th>2</th>\n",
       "      <td>3</td>\n",
       "      <td>3</td>\n",
       "      <td>PAIDOFF</td>\n",
       "      <td>1000</td>\n",
       "      <td>15</td>\n",
       "      <td>9/8/2016</td>\n",
       "      <td>9/22/2016</td>\n",
       "      <td>27</td>\n",
       "      <td>college</td>\n",
       "      <td>male</td>\n",
       "    </tr>\n",
       "    <tr>\n",
       "      <th>3</th>\n",
       "      <td>4</td>\n",
       "      <td>4</td>\n",
       "      <td>PAIDOFF</td>\n",
       "      <td>1000</td>\n",
       "      <td>30</td>\n",
       "      <td>9/9/2016</td>\n",
       "      <td>10/8/2016</td>\n",
       "      <td>28</td>\n",
       "      <td>college</td>\n",
       "      <td>female</td>\n",
       "    </tr>\n",
       "    <tr>\n",
       "      <th>4</th>\n",
       "      <td>6</td>\n",
       "      <td>6</td>\n",
       "      <td>PAIDOFF</td>\n",
       "      <td>1000</td>\n",
       "      <td>30</td>\n",
       "      <td>9/9/2016</td>\n",
       "      <td>10/8/2016</td>\n",
       "      <td>29</td>\n",
       "      <td>college</td>\n",
       "      <td>male</td>\n",
       "    </tr>\n",
       "  </tbody>\n",
       "</table>\n",
       "</div>"
      ],
      "text/plain": [
       "   Unnamed: 0  Unnamed: 0.1 loan_status  Principal  terms effective_date  \\\n",
       "0           0             0     PAIDOFF       1000     30       9/8/2016   \n",
       "1           2             2     PAIDOFF       1000     30       9/8/2016   \n",
       "2           3             3     PAIDOFF       1000     15       9/8/2016   \n",
       "3           4             4     PAIDOFF       1000     30       9/9/2016   \n",
       "4           6             6     PAIDOFF       1000     30       9/9/2016   \n",
       "\n",
       "    due_date  age             education  Gender  \n",
       "0  10/7/2016   45  High School or Below    male  \n",
       "1  10/7/2016   33              Bechalor  female  \n",
       "2  9/22/2016   27               college    male  \n",
       "3  10/8/2016   28               college  female  \n",
       "4  10/8/2016   29               college    male  "
      ]
     },
     "execution_count": 3,
     "metadata": {},
     "output_type": "execute_result"
    }
   ],
   "source": [
    "df = pd.read_csv('loan_train.csv')\n",
    "df.head()"
   ]
  },
  {
   "cell_type": "code",
   "execution_count": 4,
   "metadata": {},
   "outputs": [
    {
     "data": {
      "text/plain": [
       "(346, 10)"
      ]
     },
     "execution_count": 4,
     "metadata": {},
     "output_type": "execute_result"
    }
   ],
   "source": [
    "df.shape"
   ]
  },
  {
   "cell_type": "markdown",
   "metadata": {
    "button": false,
    "new_sheet": false,
    "run_control": {
     "read_only": false
    }
   },
   "source": [
    "### Convert to date time object\n"
   ]
  },
  {
   "cell_type": "code",
   "execution_count": 5,
   "metadata": {
    "button": false,
    "new_sheet": false,
    "run_control": {
     "read_only": false
    }
   },
   "outputs": [
    {
     "data": {
      "text/html": [
       "<div>\n",
       "<style scoped>\n",
       "    .dataframe tbody tr th:only-of-type {\n",
       "        vertical-align: middle;\n",
       "    }\n",
       "\n",
       "    .dataframe tbody tr th {\n",
       "        vertical-align: top;\n",
       "    }\n",
       "\n",
       "    .dataframe thead th {\n",
       "        text-align: right;\n",
       "    }\n",
       "</style>\n",
       "<table border=\"1\" class=\"dataframe\">\n",
       "  <thead>\n",
       "    <tr style=\"text-align: right;\">\n",
       "      <th></th>\n",
       "      <th>Unnamed: 0</th>\n",
       "      <th>Unnamed: 0.1</th>\n",
       "      <th>loan_status</th>\n",
       "      <th>Principal</th>\n",
       "      <th>terms</th>\n",
       "      <th>effective_date</th>\n",
       "      <th>due_date</th>\n",
       "      <th>age</th>\n",
       "      <th>education</th>\n",
       "      <th>Gender</th>\n",
       "    </tr>\n",
       "  </thead>\n",
       "  <tbody>\n",
       "    <tr>\n",
       "      <th>0</th>\n",
       "      <td>0</td>\n",
       "      <td>0</td>\n",
       "      <td>PAIDOFF</td>\n",
       "      <td>1000</td>\n",
       "      <td>30</td>\n",
       "      <td>2016-09-08</td>\n",
       "      <td>2016-10-07</td>\n",
       "      <td>45</td>\n",
       "      <td>High School or Below</td>\n",
       "      <td>male</td>\n",
       "    </tr>\n",
       "    <tr>\n",
       "      <th>1</th>\n",
       "      <td>2</td>\n",
       "      <td>2</td>\n",
       "      <td>PAIDOFF</td>\n",
       "      <td>1000</td>\n",
       "      <td>30</td>\n",
       "      <td>2016-09-08</td>\n",
       "      <td>2016-10-07</td>\n",
       "      <td>33</td>\n",
       "      <td>Bechalor</td>\n",
       "      <td>female</td>\n",
       "    </tr>\n",
       "    <tr>\n",
       "      <th>2</th>\n",
       "      <td>3</td>\n",
       "      <td>3</td>\n",
       "      <td>PAIDOFF</td>\n",
       "      <td>1000</td>\n",
       "      <td>15</td>\n",
       "      <td>2016-09-08</td>\n",
       "      <td>2016-09-22</td>\n",
       "      <td>27</td>\n",
       "      <td>college</td>\n",
       "      <td>male</td>\n",
       "    </tr>\n",
       "    <tr>\n",
       "      <th>3</th>\n",
       "      <td>4</td>\n",
       "      <td>4</td>\n",
       "      <td>PAIDOFF</td>\n",
       "      <td>1000</td>\n",
       "      <td>30</td>\n",
       "      <td>2016-09-09</td>\n",
       "      <td>2016-10-08</td>\n",
       "      <td>28</td>\n",
       "      <td>college</td>\n",
       "      <td>female</td>\n",
       "    </tr>\n",
       "    <tr>\n",
       "      <th>4</th>\n",
       "      <td>6</td>\n",
       "      <td>6</td>\n",
       "      <td>PAIDOFF</td>\n",
       "      <td>1000</td>\n",
       "      <td>30</td>\n",
       "      <td>2016-09-09</td>\n",
       "      <td>2016-10-08</td>\n",
       "      <td>29</td>\n",
       "      <td>college</td>\n",
       "      <td>male</td>\n",
       "    </tr>\n",
       "  </tbody>\n",
       "</table>\n",
       "</div>"
      ],
      "text/plain": [
       "   Unnamed: 0  Unnamed: 0.1 loan_status  Principal  terms effective_date  \\\n",
       "0           0             0     PAIDOFF       1000     30     2016-09-08   \n",
       "1           2             2     PAIDOFF       1000     30     2016-09-08   \n",
       "2           3             3     PAIDOFF       1000     15     2016-09-08   \n",
       "3           4             4     PAIDOFF       1000     30     2016-09-09   \n",
       "4           6             6     PAIDOFF       1000     30     2016-09-09   \n",
       "\n",
       "    due_date  age             education  Gender  \n",
       "0 2016-10-07   45  High School or Below    male  \n",
       "1 2016-10-07   33              Bechalor  female  \n",
       "2 2016-09-22   27               college    male  \n",
       "3 2016-10-08   28               college  female  \n",
       "4 2016-10-08   29               college    male  "
      ]
     },
     "execution_count": 5,
     "metadata": {},
     "output_type": "execute_result"
    }
   ],
   "source": [
    "df['due_date'] = pd.to_datetime(df['due_date'])\n",
    "df['effective_date'] = pd.to_datetime(df['effective_date'])\n",
    "df.head()"
   ]
  },
  {
   "cell_type": "markdown",
   "metadata": {
    "button": false,
    "new_sheet": false,
    "run_control": {
     "read_only": false
    }
   },
   "source": [
    "# Data visualization and pre-processing\n"
   ]
  },
  {
   "cell_type": "markdown",
   "metadata": {
    "button": false,
    "new_sheet": false,
    "run_control": {
     "read_only": false
    }
   },
   "source": [
    "Let’s see how many of each class is in our data set\n"
   ]
  },
  {
   "cell_type": "code",
   "execution_count": 6,
   "metadata": {
    "button": false,
    "new_sheet": false,
    "run_control": {
     "read_only": false
    }
   },
   "outputs": [
    {
     "data": {
      "text/plain": [
       "PAIDOFF       260\n",
       "COLLECTION     86\n",
       "Name: loan_status, dtype: int64"
      ]
     },
     "execution_count": 6,
     "metadata": {},
     "output_type": "execute_result"
    }
   ],
   "source": [
    "df['loan_status'].value_counts()"
   ]
  },
  {
   "cell_type": "markdown",
   "metadata": {
    "button": false,
    "new_sheet": false,
    "run_control": {
     "read_only": false
    }
   },
   "source": [
    "260 people have paid off the loan on time while 86 have gone into collection\n"
   ]
  },
  {
   "cell_type": "markdown",
   "metadata": {},
   "source": [
    "Let's plot some columns to underestand data better:\n"
   ]
  },
  {
   "cell_type": "code",
   "execution_count": 7,
   "metadata": {},
   "outputs": [
    {
     "name": "stdout",
     "output_type": "stream",
     "text": [
      "Collecting package metadata (current_repodata.json): ...working... done\n",
      "Solving environment: ...working... done\n",
      "\n",
      "# All requested packages already installed.\n",
      "\n"
     ]
    }
   ],
   "source": [
    "# notice: installing seaborn might takes a few minutes\n",
    "!conda install -c anaconda seaborn -y"
   ]
  },
  {
   "cell_type": "code",
   "execution_count": 8,
   "metadata": {},
   "outputs": [
    {
     "data": {
      "image/png": "[encoded data removed]",
      "text/plain": [
       "<Figure size 432x216 with 2 Axes>"
      ]
     },
     "metadata": {
      "needs_background": "light"
     },
     "output_type": "display_data"
    }
   ],
   "source": [
    "import seaborn as sns\n",
    "\n",
    "bins = np.linspace(df.Principal.min(), df.Principal.max(), 10)\n",
    "g = sns.FacetGrid(df, col=\"Gender\", hue=\"loan_status\", palette=\"Set1\", col_wrap=2)\n",
    "g.map(plt.hist, 'Principal', bins=bins, ec=\"k\")\n",
    "\n",
    "g.axes[-1].legend()\n",
    "plt.show()"
   ]
  },
  {
   "cell_type": "code",
   "execution_count": 9,
   "metadata": {
    "button": false,
    "new_sheet": false,
    "run_control": {
     "read_only": false
    }
   },
   "outputs": [
    {
     "data": {
      "image/png": "[encoded data removed]",
      "text/plain": [
       "<Figure size 432x216 with 2 Axes>"
      ]
     },
     "metadata": {
      "needs_background": "light"
     },
     "output_type": "display_data"
    }
   ],
   "source": [
    "bins = np.linspace(df.age.min(), df.age.max(), 10)\n",
    "g = sns.FacetGrid(df, col=\"Gender\", hue=\"loan_status\", palette=\"Set1\", col_wrap=2)\n",
    "g.map(plt.hist, 'age', bins=bins, ec=\"k\")\n",
    "\n",
    "g.axes[-1].legend()\n",
    "plt.show()"
   ]
  },
  {
   "cell_type": "markdown",
   "metadata": {
    "button": false,
    "new_sheet": false,
    "run_control": {
     "read_only": false
    }
   },
   "source": [
    "# Pre-processing:  Feature selection/extraction\n"
   ]
  },
  {
   "cell_type": "markdown",
   "metadata": {
    "button": false,
    "new_sheet": false,
    "run_control": {
     "read_only": false
    }
   },
   "source": [
    "### Let's look at the day of the week people get the loan\n"
   ]
  },
  {
   "cell_type": "code",
   "execution_count": 10,
   "metadata": {
    "button": false,
    "new_sheet": false,
    "run_control": {
     "read_only": false
    }
   },
   "outputs": [
    {
     "data": {
      "image/png": "[encoded data removed]",
      "text/plain": [
       "<Figure size 432x216 with 2 Axes>"
      ]
     },
     "metadata": {
      "needs_background": "light"
     },
     "output_type": "display_data"
    }
   ],
   "source": [
    "df['dayofweek'] = df['effective_date'].dt.dayofweek\n",
    "bins = np.linspace(df.dayofweek.min(), df.dayofweek.max(), 10)\n",
    "g = sns.FacetGrid(df, col=\"Gender\", hue=\"loan_status\", palette=\"Set1\", col_wrap=2)\n",
    "g.map(plt.hist, 'dayofweek', bins=bins, ec=\"k\")\n",
    "g.axes[-1].legend()\n",
    "plt.show()\n"
   ]
  },
  {
   "cell_type": "markdown",
   "metadata": {
    "button": false,
    "new_sheet": false,
    "run_control": {
     "read_only": false
    }
   },
   "source": [
    "We see that people who get the loan at the end of the week don't pay it off, so let's use Feature binarization to set a threshold value less than day 4\n"
   ]
  },
  {
   "cell_type": "code",
   "execution_count": 11,
   "metadata": {
    "button": false,
    "new_sheet": false,
    "run_control": {
     "read_only": false
    }
   },
   "outputs": [
    {
     "data": {
      "text/html": [
       "<div>\n",
       "<style scoped>\n",
       "    .dataframe tbody tr th:only-of-type {\n",
       "        vertical-align: middle;\n",
       "    }\n",
       "\n",
       "    .dataframe tbody tr th {\n",
       "        vertical-align: top;\n",
       "    }\n",
       "\n",
       "    .dataframe thead th {\n",
       "        text-align: right;\n",
       "    }\n",
       "</style>\n",
       "<table border=\"1\" class=\"dataframe\">\n",
       "  <thead>\n",
       "    <tr style=\"text-align: right;\">\n",
       "      <th></th>\n",
       "      <th>Unnamed: 0</th>\n",
       "      <th>Unnamed: 0.1</th>\n",
       "      <th>loan_status</th>\n",
       "      <th>Principal</th>\n",
       "      <th>terms</th>\n",
       "      <th>effective_date</th>\n",
       "      <th>due_date</th>\n",
       "      <th>age</th>\n",
       "      <th>education</th>\n",
       "      <th>Gender</th>\n",
       "      <th>dayofweek</th>\n",
       "      <th>weekend</th>\n",
       "    </tr>\n",
       "  </thead>\n",
       "  <tbody>\n",
       "    <tr>\n",
       "      <th>0</th>\n",
       "      <td>0</td>\n",
       "      <td>0</td>\n",
       "      <td>PAIDOFF</td>\n",
       "      <td>1000</td>\n",
       "      <td>30</td>\n",
       "      <td>2016-09-08</td>\n",
       "      <td>2016-10-07</td>\n",
       "      <td>45</td>\n",
       "      <td>High School or Below</td>\n",
       "      <td>male</td>\n",
       "      <td>3</td>\n",
       "      <td>0</td>\n",
       "    </tr>\n",
       "    <tr>\n",
       "      <th>1</th>\n",
       "      <td>2</td>\n",
       "      <td>2</td>\n",
       "      <td>PAIDOFF</td>\n",
       "      <td>1000</td>\n",
       "      <td>30</td>\n",
       "      <td>2016-09-08</td>\n",
       "      <td>2016-10-07</td>\n",
       "      <td>33</td>\n",
       "      <td>Bechalor</td>\n",
       "      <td>female</td>\n",
       "      <td>3</td>\n",
       "      <td>0</td>\n",
       "    </tr>\n",
       "    <tr>\n",
       "      <th>2</th>\n",
       "      <td>3</td>\n",
       "      <td>3</td>\n",
       "      <td>PAIDOFF</td>\n",
       "      <td>1000</td>\n",
       "      <td>15</td>\n",
       "      <td>2016-09-08</td>\n",
       "      <td>2016-09-22</td>\n",
       "      <td>27</td>\n",
       "      <td>college</td>\n",
       "      <td>male</td>\n",
       "      <td>3</td>\n",
       "      <td>0</td>\n",
       "    </tr>\n",
       "    <tr>\n",
       "      <th>3</th>\n",
       "      <td>4</td>\n",
       "      <td>4</td>\n",
       "      <td>PAIDOFF</td>\n",
       "      <td>1000</td>\n",
       "      <td>30</td>\n",
       "      <td>2016-09-09</td>\n",
       "      <td>2016-10-08</td>\n",
       "      <td>28</td>\n",
       "      <td>college</td>\n",
       "      <td>female</td>\n",
       "      <td>4</td>\n",
       "      <td>1</td>\n",
       "    </tr>\n",
       "    <tr>\n",
       "      <th>4</th>\n",
       "      <td>6</td>\n",
       "      <td>6</td>\n",
       "      <td>PAIDOFF</td>\n",
       "      <td>1000</td>\n",
       "      <td>30</td>\n",
       "      <td>2016-09-09</td>\n",
       "      <td>2016-10-08</td>\n",
       "      <td>29</td>\n",
       "      <td>college</td>\n",
       "      <td>male</td>\n",
       "      <td>4</td>\n",
       "      <td>1</td>\n",
       "    </tr>\n",
       "  </tbody>\n",
       "</table>\n",
       "</div>"
      ],
      "text/plain": [
       "   Unnamed: 0  Unnamed: 0.1 loan_status  Principal  terms effective_date  \\\n",
       "0           0             0     PAIDOFF       1000     30     2016-09-08   \n",
       "1           2             2     PAIDOFF       1000     30     2016-09-08   \n",
       "2           3             3     PAIDOFF       1000     15     2016-09-08   \n",
       "3           4             4     PAIDOFF       1000     30     2016-09-09   \n",
       "4           6             6     PAIDOFF       1000     30     2016-09-09   \n",
       "\n",
       "    due_date  age             education  Gender  dayofweek  weekend  \n",
       "0 2016-10-07   45  High School or Below    male          3        0  \n",
       "1 2016-10-07   33              Bechalor  female          3        0  \n",
       "2 2016-09-22   27               college    male          3        0  \n",
       "3 2016-10-08   28               college  female          4        1  \n",
       "4 2016-10-08   29               college    male          4        1  "
      ]
     },
     "execution_count": 11,
     "metadata": {},
     "output_type": "execute_result"
    }
   ],
   "source": [
    "df['weekend'] = df['dayofweek'].apply(lambda x: 1 if (x>3)  else 0)\n",
    "df.head()"
   ]
  },
  {
   "cell_type": "markdown",
   "metadata": {
    "button": false,
    "new_sheet": false,
    "run_control": {
     "read_only": false
    }
   },
   "source": [
    "## Convert Categorical features to numerical values\n"
   ]
  },
  {
   "cell_type": "markdown",
   "metadata": {
    "button": false,
    "new_sheet": false,
    "run_control": {
     "read_only": false
    }
   },
   "source": [
    "Let's look at gender:\n"
   ]
  },
  {
   "cell_type": "code",
   "execution_count": 12,
   "metadata": {
    "button": false,
    "new_sheet": false,
    "run_control": {
     "read_only": false
    }
   },
   "outputs": [
    {
     "data": {
      "text/plain": [
       "Gender  loan_status\n",
       "female  PAIDOFF        0.865385\n",
       "        COLLECTION     0.134615\n",
       "male    PAIDOFF        0.731293\n",
       "        COLLECTION     0.268707\n",
       "Name: loan_status, dtype: float64"
      ]
     },
     "execution_count": 12,
     "metadata": {},
     "output_type": "execute_result"
    }
   ],
   "source": [
    "df.groupby(['Gender'])['loan_status'].value_counts(normalize=True)"
   ]
  },
  {
   "cell_type": "markdown",
   "metadata": {
    "button": false,
    "new_sheet": false,
    "run_control": {
     "read_only": false
    }
   },
   "source": [
    "86 % of female pay there loans while only 73 % of males pay there loan\n"
   ]
  },
  {
   "cell_type": "markdown",
   "metadata": {
    "button": false,
    "new_sheet": false,
    "run_control": {
     "read_only": false
    }
   },
   "source": [
    "Let's convert male to 0 and female to 1:\n"
   ]
  },
  {
   "cell_type": "code",
   "execution_count": 13,
   "metadata": {
    "button": false,
    "new_sheet": false,
    "run_control": {
     "read_only": false
    }
   },
   "outputs": [
    {
     "data": {
      "text/html": [
       "<div>\n",
       "<style scoped>\n",
       "    .dataframe tbody tr th:only-of-type {\n",
       "        vertical-align: middle;\n",
       "    }\n",
       "\n",
       "    .dataframe tbody tr th {\n",
       "        vertical-align: top;\n",
       "    }\n",
       "\n",
       "    .dataframe thead th {\n",
       "        text-align: right;\n",
       "    }\n",
       "</style>\n",
       "<table border=\"1\" class=\"dataframe\">\n",
       "  <thead>\n",
       "    <tr style=\"text-align: right;\">\n",
       "      <th></th>\n",
       "      <th>Unnamed: 0</th>\n",
       "      <th>Unnamed: 0.1</th>\n",
       "      <th>loan_status</th>\n",
       "      <th>Principal</th>\n",
       "      <th>terms</th>\n",
       "      <th>effective_date</th>\n",
       "      <th>due_date</th>\n",
       "      <th>age</th>\n",
       "      <th>education</th>\n",
       "      <th>Gender</th>\n",
       "      <th>dayofweek</th>\n",
       "      <th>weekend</th>\n",
       "    </tr>\n",
       "  </thead>\n",
       "  <tbody>\n",
       "    <tr>\n",
       "      <th>0</th>\n",
       "      <td>0</td>\n",
       "      <td>0</td>\n",
       "      <td>PAIDOFF</td>\n",
       "      <td>1000</td>\n",
       "      <td>30</td>\n",
       "      <td>2016-09-08</td>\n",
       "      <td>2016-10-07</td>\n",
       "      <td>45</td>\n",
       "      <td>High School or Below</td>\n",
       "      <td>0</td>\n",
       "      <td>3</td>\n",
       "      <td>0</td>\n",
       "    </tr>\n",
       "    <tr>\n",
       "      <th>1</th>\n",
       "      <td>2</td>\n",
       "      <td>2</td>\n",
       "      <td>PAIDOFF</td>\n",
       "      <td>1000</td>\n",
       "      <td>30</td>\n",
       "      <td>2016-09-08</td>\n",
       "      <td>2016-10-07</td>\n",
       "      <td>33</td>\n",
       "      <td>Bechalor</td>\n",
       "      <td>1</td>\n",
       "      <td>3</td>\n",
       "      <td>0</td>\n",
       "    </tr>\n",
       "    <tr>\n",
       "      <th>2</th>\n",
       "      <td>3</td>\n",
       "      <td>3</td>\n",
       "      <td>PAIDOFF</td>\n",
       "      <td>1000</td>\n",
       "      <td>15</td>\n",
       "      <td>2016-09-08</td>\n",
       "      <td>2016-09-22</td>\n",
       "      <td>27</td>\n",
       "      <td>college</td>\n",
       "      <td>0</td>\n",
       "      <td>3</td>\n",
       "      <td>0</td>\n",
       "    </tr>\n",
       "    <tr>\n",
       "      <th>3</th>\n",
       "      <td>4</td>\n",
       "      <td>4</td>\n",
       "      <td>PAIDOFF</td>\n",
       "      <td>1000</td>\n",
       "      <td>30</td>\n",
       "      <td>2016-09-09</td>\n",
       "      <td>2016-10-08</td>\n",
       "      <td>28</td>\n",
       "      <td>college</td>\n",
       "      <td>1</td>\n",
       "      <td>4</td>\n",
       "      <td>1</td>\n",
       "    </tr>\n",
       "    <tr>\n",
       "      <th>4</th>\n",
       "      <td>6</td>\n",
       "      <td>6</td>\n",
       "      <td>PAIDOFF</td>\n",
       "      <td>1000</td>\n",
       "      <td>30</td>\n",
       "      <td>2016-09-09</td>\n",
       "      <td>2016-10-08</td>\n",
       "      <td>29</td>\n",
       "      <td>college</td>\n",
       "      <td>0</td>\n",
       "      <td>4</td>\n",
       "      <td>1</td>\n",
       "    </tr>\n",
       "  </tbody>\n",
       "</table>\n",
       "</div>"
      ],
      "text/plain": [
       "   Unnamed: 0  Unnamed: 0.1 loan_status  Principal  terms effective_date  \\\n",
       "0           0             0     PAIDOFF       1000     30     2016-09-08   \n",
       "1           2             2     PAIDOFF       1000     30     2016-09-08   \n",
       "2           3             3     PAIDOFF       1000     15     2016-09-08   \n",
       "3           4             4     PAIDOFF       1000     30     2016-09-09   \n",
       "4           6             6     PAIDOFF       1000     30     2016-09-09   \n",
       "\n",
       "    due_date  age             education  Gender  dayofweek  weekend  \n",
       "0 2016-10-07   45  High School or Below       0          3        0  \n",
       "1 2016-10-07   33              Bechalor       1          3        0  \n",
       "2 2016-09-22   27               college       0          3        0  \n",
       "3 2016-10-08   28               college       1          4        1  \n",
       "4 2016-10-08   29               college       0          4        1  "
      ]
     },
     "execution_count": 13,
     "metadata": {},
     "output_type": "execute_result"
    }
   ],
   "source": [
    "df['Gender'].replace(to_replace=['male','female'], value=[0,1],inplace=True)\n",
    "df.head()"
   ]
  },
  {
   "cell_type": "markdown",
   "metadata": {
    "button": false,
    "new_sheet": false,
    "run_control": {
     "read_only": false
    }
   },
   "source": [
    "## One Hot Encoding\n",
    "\n",
    "#### How about education?\n"
   ]
  },
  {
   "cell_type": "code",
   "execution_count": 14,
   "metadata": {
    "button": false,
    "new_sheet": false,
    "run_control": {
     "read_only": false
    }
   },
   "outputs": [
    {
     "data": {
      "text/plain": [
       "education             loan_status\n",
       "Bechalor              PAIDOFF        0.750000\n",
       "                      COLLECTION     0.250000\n",
       "High School or Below  PAIDOFF        0.741722\n",
       "                      COLLECTION     0.258278\n",
       "Master or Above       COLLECTION     0.500000\n",
       "                      PAIDOFF        0.500000\n",
       "college               PAIDOFF        0.765101\n",
       "                      COLLECTION     0.234899\n",
       "Name: loan_status, dtype: float64"
      ]
     },
     "execution_count": 14,
     "metadata": {},
     "output_type": "execute_result"
    }
   ],
   "source": [
    "df.groupby(['education'])['loan_status'].value_counts(normalize=True)"
   ]
  },
  {
   "cell_type": "markdown",
   "metadata": {
    "button": false,
    "new_sheet": false,
    "run_control": {
     "read_only": false
    }
   },
   "source": [
    "#### Features before One Hot Encoding\n"
   ]
  },
  {
   "cell_type": "code",
   "execution_count": 15,
   "metadata": {
    "button": false,
    "new_sheet": false,
    "run_control": {
     "read_only": false
    }
   },
   "outputs": [
    {
     "data": {
      "text/html": [
       "<div>\n",
       "<style scoped>\n",
       "    .dataframe tbody tr th:only-of-type {\n",
       "        vertical-align: middle;\n",
       "    }\n",
       "\n",
       "    .dataframe tbody tr th {\n",
       "        vertical-align: top;\n",
       "    }\n",
       "\n",
       "    .dataframe thead th {\n",
       "        text-align: right;\n",
       "    }\n",
       "</style>\n",
       "<table border=\"1\" class=\"dataframe\">\n",
       "  <thead>\n",
       "    <tr style=\"text-align: right;\">\n",
       "      <th></th>\n",
       "      <th>Principal</th>\n",
       "      <th>terms</th>\n",
       "      <th>age</th>\n",
       "      <th>Gender</th>\n",
       "      <th>education</th>\n",
       "    </tr>\n",
       "  </thead>\n",
       "  <tbody>\n",
       "    <tr>\n",
       "      <th>0</th>\n",
       "      <td>1000</td>\n",
       "      <td>30</td>\n",
       "      <td>45</td>\n",
       "      <td>0</td>\n",
       "      <td>High School or Below</td>\n",
       "    </tr>\n",
       "    <tr>\n",
       "      <th>1</th>\n",
       "      <td>1000</td>\n",
       "      <td>30</td>\n",
       "      <td>33</td>\n",
       "      <td>1</td>\n",
       "      <td>Bechalor</td>\n",
       "    </tr>\n",
       "    <tr>\n",
       "      <th>2</th>\n",
       "      <td>1000</td>\n",
       "      <td>15</td>\n",
       "      <td>27</td>\n",
       "      <td>0</td>\n",
       "      <td>college</td>\n",
       "    </tr>\n",
       "    <tr>\n",
       "      <th>3</th>\n",
       "      <td>1000</td>\n",
       "      <td>30</td>\n",
       "      <td>28</td>\n",
       "      <td>1</td>\n",
       "      <td>college</td>\n",
       "    </tr>\n",
       "    <tr>\n",
       "      <th>4</th>\n",
       "      <td>1000</td>\n",
       "      <td>30</td>\n",
       "      <td>29</td>\n",
       "      <td>0</td>\n",
       "      <td>college</td>\n",
       "    </tr>\n",
       "  </tbody>\n",
       "</table>\n",
       "</div>"
      ],
      "text/plain": [
       "   Principal  terms  age  Gender             education\n",
       "0       1000     30   45       0  High School or Below\n",
       "1       1000     30   33       1              Bechalor\n",
       "2       1000     15   27       0               college\n",
       "3       1000     30   28       1               college\n",
       "4       1000     30   29       0               college"
      ]
     },
     "execution_count": 15,
     "metadata": {},
     "output_type": "execute_result"
    }
   ],
   "source": [
    "df[['Principal','terms','age','Gender','education']].head()"
   ]
  },
  {
   "cell_type": "markdown",
   "metadata": {
    "button": false,
    "new_sheet": false,
    "run_control": {
     "read_only": false
    }
   },
   "source": [
    "#### Use one hot encoding technique to conver categorical varables to binary variables and append them to the feature Data Frame\n"
   ]
  },
  {
   "cell_type": "code",
   "execution_count": 16,
   "metadata": {
    "button": false,
    "new_sheet": false,
    "run_control": {
     "read_only": false
    }
   },
   "outputs": [
    {
     "data": {
      "text/html": [
       "<div>\n",
       "<style scoped>\n",
       "    .dataframe tbody tr th:only-of-type {\n",
       "        vertical-align: middle;\n",
       "    }\n",
       "\n",
       "    .dataframe tbody tr th {\n",
       "        vertical-align: top;\n",
       "    }\n",
       "\n",
       "    .dataframe thead th {\n",
       "        text-align: right;\n",
       "    }\n",
       "</style>\n",
       "<table border=\"1\" class=\"dataframe\">\n",
       "  <thead>\n",
       "    <tr style=\"text-align: right;\">\n",
       "      <th></th>\n",
       "      <th>Principal</th>\n",
       "      <th>terms</th>\n",
       "      <th>age</th>\n",
       "      <th>Gender</th>\n",
       "      <th>weekend</th>\n",
       "      <th>Bechalor</th>\n",
       "      <th>High School or Below</th>\n",
       "      <th>college</th>\n",
       "    </tr>\n",
       "  </thead>\n",
       "  <tbody>\n",
       "    <tr>\n",
       "      <th>0</th>\n",
       "      <td>1000</td>\n",
       "      <td>30</td>\n",
       "      <td>45</td>\n",
       "      <td>0</td>\n",
       "      <td>0</td>\n",
       "      <td>0</td>\n",
       "      <td>1</td>\n",
       "      <td>0</td>\n",
       "    </tr>\n",
       "    <tr>\n",
       "      <th>1</th>\n",
       "      <td>1000</td>\n",
       "      <td>30</td>\n",
       "      <td>33</td>\n",
       "      <td>1</td>\n",
       "      <td>0</td>\n",
       "      <td>1</td>\n",
       "      <td>0</td>\n",
       "      <td>0</td>\n",
       "    </tr>\n",
       "    <tr>\n",
       "      <th>2</th>\n",
       "      <td>1000</td>\n",
       "      <td>15</td>\n",
       "      <td>27</td>\n",
       "      <td>0</td>\n",
       "      <td>0</td>\n",
       "      <td>0</td>\n",
       "      <td>0</td>\n",
       "      <td>1</td>\n",
       "    </tr>\n",
       "    <tr>\n",
       "      <th>3</th>\n",
       "      <td>1000</td>\n",
       "      <td>30</td>\n",
       "      <td>28</td>\n",
       "      <td>1</td>\n",
       "      <td>1</td>\n",
       "      <td>0</td>\n",
       "      <td>0</td>\n",
       "      <td>1</td>\n",
       "    </tr>\n",
       "    <tr>\n",
       "      <th>4</th>\n",
       "      <td>1000</td>\n",
       "      <td>30</td>\n",
       "      <td>29</td>\n",
       "      <td>0</td>\n",
       "      <td>1</td>\n",
       "      <td>0</td>\n",
       "      <td>0</td>\n",
       "      <td>1</td>\n",
       "    </tr>\n",
       "  </tbody>\n",
       "</table>\n",
       "</div>"
      ],
      "text/plain": [
       "   Principal  terms  age  Gender  weekend  Bechalor  High School or Below  \\\n",
       "0       1000     30   45       0        0         0                     1   \n",
       "1       1000     30   33       1        0         1                     0   \n",
       "2       1000     15   27       0        0         0                     0   \n",
       "3       1000     30   28       1        1         0                     0   \n",
       "4       1000     30   29       0        1         0                     0   \n",
       "\n",
       "   college  \n",
       "0        0  \n",
       "1        0  \n",
       "2        1  \n",
       "3        1  \n",
       "4        1  "
      ]
     },
     "execution_count": 16,
     "metadata": {},
     "output_type": "execute_result"
    }
   ],
   "source": [
    "Feature = df[['Principal','terms','age','Gender','weekend']]\n",
    "Feature = pd.concat([Feature,pd.get_dummies(df['education'])], axis=1)\n",
    "Feature.drop(['Master or Above'], axis = 1,inplace=True)\n",
    "Feature.head()\n"
   ]
  },
  {
   "cell_type": "markdown",
   "metadata": {
    "button": false,
    "new_sheet": false,
    "run_control": {
     "read_only": false
    }
   },
   "source": [
    "### Feature Selection\n"
   ]
  },
  {
   "cell_type": "markdown",
   "metadata": {
    "button": false,
    "new_sheet": false,
    "run_control": {
     "read_only": false
    }
   },
   "source": [
    "Let's define feature sets, X:\n"
   ]
  },
  {
   "cell_type": "code",
   "execution_count": 17,
   "metadata": {
    "button": false,
    "new_sheet": false,
    "run_control": {
     "read_only": false
    }
   },
   "outputs": [
    {
     "data": {
      "text/html": [
       "<div>\n",
       "<style scoped>\n",
       "    .dataframe tbody tr th:only-of-type {\n",
       "        vertical-align: middle;\n",
       "    }\n",
       "\n",
       "    .dataframe tbody tr th {\n",
       "        vertical-align: top;\n",
       "    }\n",
       "\n",
       "    .dataframe thead th {\n",
       "        text-align: right;\n",
       "    }\n",
       "</style>\n",
       "<table border=\"1\" class=\"dataframe\">\n",
       "  <thead>\n",
       "    <tr style=\"text-align: right;\">\n",
       "      <th></th>\n",
       "      <th>Principal</th>\n",
       "      <th>terms</th>\n",
       "      <th>age</th>\n",
       "      <th>Gender</th>\n",
       "      <th>weekend</th>\n",
       "      <th>Bechalor</th>\n",
       "      <th>High School or Below</th>\n",
       "      <th>college</th>\n",
       "    </tr>\n",
       "  </thead>\n",
       "  <tbody>\n",
       "    <tr>\n",
       "      <th>0</th>\n",
       "      <td>1000</td>\n",
       "      <td>30</td>\n",
       "      <td>45</td>\n",
       "      <td>0</td>\n",
       "      <td>0</td>\n",
       "      <td>0</td>\n",
       "      <td>1</td>\n",
       "      <td>0</td>\n",
       "    </tr>\n",
       "    <tr>\n",
       "      <th>1</th>\n",
       "      <td>1000</td>\n",
       "      <td>30</td>\n",
       "      <td>33</td>\n",
       "      <td>1</td>\n",
       "      <td>0</td>\n",
       "      <td>1</td>\n",
       "      <td>0</td>\n",
       "      <td>0</td>\n",
       "    </tr>\n",
       "    <tr>\n",
       "      <th>2</th>\n",
       "      <td>1000</td>\n",
       "      <td>15</td>\n",
       "      <td>27</td>\n",
       "      <td>0</td>\n",
       "      <td>0</td>\n",
       "      <td>0</td>\n",
       "      <td>0</td>\n",
       "      <td>1</td>\n",
       "    </tr>\n",
       "    <tr>\n",
       "      <th>3</th>\n",
       "      <td>1000</td>\n",
       "      <td>30</td>\n",
       "      <td>28</td>\n",
       "      <td>1</td>\n",
       "      <td>1</td>\n",
       "      <td>0</td>\n",
       "      <td>0</td>\n",
       "      <td>1</td>\n",
       "    </tr>\n",
       "    <tr>\n",
       "      <th>4</th>\n",
       "      <td>1000</td>\n",
       "      <td>30</td>\n",
       "      <td>29</td>\n",
       "      <td>0</td>\n",
       "      <td>1</td>\n",
       "      <td>0</td>\n",
       "      <td>0</td>\n",
       "      <td>1</td>\n",
       "    </tr>\n",
       "  </tbody>\n",
       "</table>\n",
       "</div>"
      ],
      "text/plain": [
       "   Principal  terms  age  Gender  weekend  Bechalor  High School or Below  \\\n",
       "0       1000     30   45       0        0         0                     1   \n",
       "1       1000     30   33       1        0         1                     0   \n",
       "2       1000     15   27       0        0         0                     0   \n",
       "3       1000     30   28       1        1         0                     0   \n",
       "4       1000     30   29       0        1         0                     0   \n",
       "\n",
       "   college  \n",
       "0        0  \n",
       "1        0  \n",
       "2        1  \n",
       "3        1  \n",
       "4        1  "
      ]
     },
     "execution_count": 17,
     "metadata": {},
     "output_type": "execute_result"
    }
   ],
   "source": [
    "X = Feature\n",
    "X[0:5]"
   ]
  },
  {
   "cell_type": "markdown",
   "metadata": {
    "button": false,
    "new_sheet": false,
    "run_control": {
     "read_only": false
    }
   },
   "source": [
    "What are our lables?\n"
   ]
  },
  {
   "cell_type": "code",
   "execution_count": 18,
   "metadata": {
    "button": false,
    "new_sheet": false,
    "run_control": {
     "read_only": false
    }
   },
   "outputs": [
    {
     "data": {
      "text/plain": [
       "array(['PAIDOFF', 'PAIDOFF', 'PAIDOFF', 'PAIDOFF', 'PAIDOFF'],\n",
       "      dtype=object)"
      ]
     },
     "execution_count": 18,
     "metadata": {},
     "output_type": "execute_result"
    }
   ],
   "source": [
    "y = df['loan_status'].values\n",
    "y[0:5]"
   ]
  },
  {
   "cell_type": "markdown",
   "metadata": {
    "button": false,
    "new_sheet": false,
    "run_control": {
     "read_only": false
    }
   },
   "source": [
    "## Normalize Data\n"
   ]
  },
  {
   "cell_type": "markdown",
   "metadata": {
    "button": false,
    "new_sheet": false,
    "run_control": {
     "read_only": false
    }
   },
   "source": [
    "Data Standardization give data zero mean and unit variance (technically should be done after train test split)\n"
   ]
  },
  {
   "cell_type": "code",
   "execution_count": 19,
   "metadata": {
    "button": false,
    "new_sheet": false,
    "run_control": {
     "read_only": false
    }
   },
   "outputs": [
    {
     "data": {
      "text/plain": [
       "array([[ 0.51578458,  0.92071769,  2.33152555, -0.42056004, -1.20577805,\n",
       "        -0.38170062,  1.13639374, -0.86968108],\n",
       "       [ 0.51578458,  0.92071769,  0.34170148,  2.37778177, -1.20577805,\n",
       "         2.61985426, -0.87997669, -0.86968108],\n",
       "       [ 0.51578458, -0.95911111, -0.65321055, -0.42056004, -1.20577805,\n",
       "        -0.38170062, -0.87997669,  1.14984679],\n",
       "       [ 0.51578458,  0.92071769, -0.48739188,  2.37778177,  0.82934003,\n",
       "        -0.38170062, -0.87997669,  1.14984679],\n",
       "       [ 0.51578458,  0.92071769, -0.3215732 , -0.42056004,  0.82934003,\n",
       "        -0.38170062, -0.87997669,  1.14984679]])"
      ]
     },
     "execution_count": 19,
     "metadata": {},
     "output_type": "execute_result"
    }
   ],
   "source": [
    "X= preprocessing.StandardScaler().fit(X).transform(X)\n",
    "X[0:5]"
   ]
  },
  {
   "cell_type": "markdown",
   "metadata": {
    "button": false,
    "new_sheet": false,
    "run_control": {
     "read_only": false
    }
   },
   "source": [
    "# Classification\n"
   ]
  },
  {
   "cell_type": "markdown",
   "metadata": {
    "button": false,
    "new_sheet": false,
    "run_control": {
     "read_only": false
    }
   },
   "source": [
    "Now, it is your turn, use the training set to build an accurate model. Then use the test set to report the accuracy of the model\n",
    "You should use the following algorithm:\n",
    "\n",
    "*   K Nearest Neighbor(KNN)\n",
    "*   Decision Tree\n",
    "*   Support Vector Machine\n",
    "*   Logistic Regression\n",
    "\n",
    "\\__ Notice:\\__\n",
    "\n",
    "*   You can go above and change the pre-processing, feature selection, feature-extraction, and so on, to make a better model.\n",
    "*   You should use either scikit-learn, Scipy or Numpy libraries for developing the classification algorithms.\n",
    "*   You should include the code of the algorithm in the following cells.\n"
   ]
  },
  {
   "cell_type": "markdown",
   "metadata": {},
   "source": [
    "# K Nearest Neighbor(KNN)\n",
    "\n",
    "Notice: You should find the best k to build the model with the best accuracy.\\\n",
    "**warning:** You should not use the **loan_test.csv** for finding the best k, however, you can split your train_loan.csv into train and test to find the best **k**.\n"
   ]
  },
  {
   "cell_type": "code",
   "execution_count": 20,
   "metadata": {},
   "outputs": [
    {
     "name": "stdout",
     "output_type": "stream",
     "text": [
      "Train set: (276, 8) (276,)\n",
      "Test set: (70, 8) (70,)\n"
     ]
    },
    {
     "data": {
      "text/plain": [
       "array(['PAIDOFF', 'PAIDOFF', 'PAIDOFF', 'PAIDOFF', 'PAIDOFF', 'PAIDOFF',\n",
       "       'COLLECTION', 'PAIDOFF', 'PAIDOFF', 'PAIDOFF', 'COLLECTION',\n",
       "       'COLLECTION', 'PAIDOFF', 'PAIDOFF', 'PAIDOFF', 'PAIDOFF',\n",
       "       'PAIDOFF', 'PAIDOFF', 'PAIDOFF', 'PAIDOFF', 'PAIDOFF', 'PAIDOFF',\n",
       "       'COLLECTION', 'PAIDOFF', 'PAIDOFF', 'PAIDOFF', 'PAIDOFF',\n",
       "       'PAIDOFF', 'PAIDOFF', 'PAIDOFF', 'COLLECTION', 'PAIDOFF',\n",
       "       'PAIDOFF', 'PAIDOFF', 'PAIDOFF', 'COLLECTION', 'PAIDOFF',\n",
       "       'PAIDOFF', 'COLLECTION', 'COLLECTION', 'PAIDOFF', 'PAIDOFF',\n",
       "       'COLLECTION', 'COLLECTION', 'PAIDOFF', 'PAIDOFF', 'PAIDOFF',\n",
       "       'PAIDOFF', 'PAIDOFF', 'PAIDOFF', 'PAIDOFF', 'PAIDOFF', 'PAIDOFF',\n",
       "       'PAIDOFF', 'PAIDOFF', 'PAIDOFF', 'PAIDOFF', 'COLLECTION',\n",
       "       'COLLECTION', 'PAIDOFF', 'COLLECTION', 'PAIDOFF', 'PAIDOFF',\n",
       "       'PAIDOFF', 'PAIDOFF', 'COLLECTION', 'PAIDOFF', 'PAIDOFF',\n",
       "       'COLLECTION', 'PAIDOFF'], dtype=object)"
      ]
     },
     "execution_count": 20,
     "metadata": {},
     "output_type": "execute_result"
    }
   ],
   "source": [
    "from sklearn.model_selection import train_test_split\n",
    "X_train, X_test, y_train, y_test = train_test_split( X, y, test_size=0.2, random_state=4)\n",
    "print ('Train set:', X_train.shape,  y_train.shape)\n",
    "print ('Test set:', X_test.shape,  y_test.shape)\n",
    "\n",
    "#view our actual labels in the train set:\n",
    "y_test"
   ]
  },
  {
   "cell_type": "code",
   "execution_count": 21,
   "metadata": {},
   "outputs": [],
   "source": [
    "#importing the library\n",
    "from sklearn.neighbors import KNeighborsClassifier"
   ]
  },
  {
   "cell_type": "code",
   "execution_count": 22,
   "metadata": {},
   "outputs": [
    {
     "data": {
      "text/plain": [
       "KNeighborsClassifier(n_neighbors=7)"
      ]
     },
     "execution_count": 22,
     "metadata": {},
     "output_type": "execute_result"
    }
   ],
   "source": [
    "#Start the algorithm with K=4 (we don't know if is the best K but i took this value.)\n",
    "#k = 4\n",
    "k = 7\n",
    "#The best k value is 7\n",
    "\n",
    "#Training the model and predict.  \n",
    "neigh = KNeighborsClassifier(n_neighbors = k).fit(X_train,y_train)\n",
    "neigh"
   ]
  },
  {
   "cell_type": "code",
   "execution_count": 23,
   "metadata": {},
   "outputs": [
    {
     "data": {
      "text/plain": [
       "array(['PAIDOFF', 'PAIDOFF', 'PAIDOFF', 'PAIDOFF', 'PAIDOFF'],\n",
       "      dtype=object)"
      ]
     },
     "execution_count": 23,
     "metadata": {},
     "output_type": "execute_result"
    }
   ],
   "source": [
    "yhat = neigh.predict(X_test)\n",
    "yhat[0:5]"
   ]
  },
  {
   "cell_type": "code",
   "execution_count": 24,
   "metadata": {},
   "outputs": [
    {
     "name": "stdout",
     "output_type": "stream",
     "text": [
      "Train set Accuracy:  0.8079710144927537\n",
      "Test set Accuracy:  0.7857142857142857\n"
     ]
    }
   ],
   "source": [
    "from sklearn import metrics\n",
    "print(\"Train set Accuracy: \", metrics.accuracy_score(y_train, neigh.predict(X_train)))\n",
    "print(\"Test set Accuracy: \", metrics.accuracy_score(y_test, yhat))"
   ]
  },
  {
   "cell_type": "code",
   "execution_count": 25,
   "metadata": {},
   "outputs": [
    {
     "data": {
      "text/plain": [
       "array([0.67142857, 0.65714286, 0.71428571, 0.68571429, 0.75714286,\n",
       "       0.71428571, 0.78571429, 0.75714286, 0.75714286])"
      ]
     },
     "execution_count": 25,
     "metadata": {},
     "output_type": "execute_result"
    }
   ],
   "source": [
    "Ks = 10\n",
    "mean_acc = np.zeros((Ks-1))\n",
    "std_acc = np.zeros((Ks-1))\n",
    "ConfustionMx = [];\n",
    "for n in range(1,Ks):\n",
    "    \n",
    "    #Train Model and Predict  \n",
    "    neigh = KNeighborsClassifier(n_neighbors = n).fit(X_train,y_train)\n",
    "    yhat=neigh.predict(X_test)\n",
    "    mean_acc[n-1] = metrics.accuracy_score(y_test, yhat)\n",
    "\n",
    "    \n",
    "    std_acc[n-1]=np.std(yhat==y_test)/np.sqrt(yhat.shape[0])\n",
    "\n",
    "mean_acc"
   ]
  },
  {
   "cell_type": "code",
   "execution_count": 26,
   "metadata": {},
   "outputs": [
    {
     "data": {
      "image/png": "[encoded data removed]",
      "text/plain": [
       "<Figure size 432x288 with 1 Axes>"
      ]
     },
     "metadata": {
      "needs_background": "light"
     },
     "output_type": "display_data"
    }
   ],
   "source": [
    "plt.plot(range(1,Ks),mean_acc,'g')\n",
    "plt.fill_between(range(1,Ks),mean_acc - 1 * std_acc,mean_acc + 1 * std_acc, alpha=0.10)\n",
    "plt.legend(('Accuracy ', '+/- 3xstd'))\n",
    "plt.ylabel('Accuracy ')\n",
    "plt.xlabel('Number of Nabors (K)')\n",
    "plt.tight_layout()\n",
    "plt.show()"
   ]
  },
  {
   "cell_type": "code",
   "execution_count": 27,
   "metadata": {},
   "outputs": [
    {
     "name": "stdout",
     "output_type": "stream",
     "text": [
      "The best accuracy was with 0.7857142857142857 with k= 7 Remember this value to use and change in k value of our algorithm\n"
     ]
    }
   ],
   "source": [
    "print( \"The best accuracy was with\", mean_acc.max(), \"with k=\", mean_acc.argmax()+1, \"Remember this value to use and change in k value of our algorithm\") \n"
   ]
  },
  {
   "cell_type": "markdown",
   "metadata": {},
   "source": [
    "# Decision Tree\n"
   ]
  },
  {
   "cell_type": "code",
   "execution_count": 28,
   "metadata": {},
   "outputs": [
    {
     "data": {
      "text/plain": [
       "DecisionTreeClassifier(criterion='entropy', max_depth=6)"
      ]
     },
     "execution_count": 28,
     "metadata": {},
     "output_type": "execute_result"
    }
   ],
   "source": [
    "#Setting up the Decision Tree\n",
    "from sklearn.tree import DecisionTreeClassifier\n",
    "from sklearn.model_selection import train_test_split\n",
    "\n",
    "#split data set, The X and y are the arrays required before the split, the test_size represents the ratio of the testing dataset, and the random_state ensures that we obtain the same splits.\n",
    "X_trainset, X_testset, y_trainset, y_testset = train_test_split(X, y, test_size=0.3, random_state=3)\n",
    "\n",
    "#Modeling\n",
    "# We will first create an instance of the DecisionTreeClassifier called LoanTree.\n",
    "# Inside of the classifier, specify criterion=\"entropy\" so we can see the information gain of each node.\n",
    "LoanTree = DecisionTreeClassifier(criterion=\"entropy\", max_depth = 6)\n",
    "LoanTree"
   ]
  },
  {
   "cell_type": "code",
   "execution_count": 29,
   "metadata": {},
   "outputs": [
    {
     "data": {
      "text/plain": [
       "DecisionTreeClassifier(criterion='entropy', max_depth=6)"
      ]
     },
     "execution_count": 29,
     "metadata": {},
     "output_type": "execute_result"
    }
   ],
   "source": [
    "# fit the data with the training feature matrix X_trainset and training response vector y_trainset\n",
    "LoanTree.fit(X_trainset,y_trainset)"
   ]
  },
  {
   "cell_type": "code",
   "execution_count": 30,
   "metadata": {},
   "outputs": [
    {
     "name": "stdout",
     "output_type": "stream",
     "text": [
      "['PAIDOFF' 'PAIDOFF' 'PAIDOFF' 'PAIDOFF' 'PAIDOFF']\n",
      "['PAIDOFF' 'PAIDOFF' 'COLLECTION' 'COLLECTION' 'PAIDOFF']\n"
     ]
    }
   ],
   "source": [
    "#Prediction\n",
    "# Let's make some predictions on the testing dataset and store it into a variable called predTree.\n",
    "predTree = LoanTree.predict(X_testset)\n",
    "\n",
    "# print out predTree and y_testset to visually and compare the prediction to the actual values.\n",
    "print (predTree [0:5])\n",
    "print (y_testset [0:5])"
   ]
  },
  {
   "cell_type": "code",
   "execution_count": 31,
   "metadata": {},
   "outputs": [
    {
     "name": "stdout",
     "output_type": "stream",
     "text": [
      "DecisionTrees's Accuracy:  0.7019230769230769\n"
     ]
    }
   ],
   "source": [
    "#Evaluation\n",
    "# Next, let's import metrics from sklearn and check the accuracy of our model.\n",
    "from sklearn import metrics\n",
    "print(\"DecisionTrees's Accuracy: \", metrics.accuracy_score(y_testset, predTree))"
   ]
  },
  {
   "cell_type": "code",
   "execution_count": 32,
   "metadata": {},
   "outputs": [
    {
     "name": "stdout",
     "output_type": "stream",
     "text": [
      "Collecting package metadata (current_repodata.json): ...working... done\n",
      "Solving environment: ...working... done\n",
      "\n",
      "## Package Plan ##\n",
      "\n",
      "  environment location: C:\\Users\\suadk\\anaconda3\n",
      "\n",
      "  added / updated specs:\n",
      "    - pydotplus\n",
      "\n",
      "\n",
      "The following packages will be downloaded:\n",
      "\n",
      "    package                    |            build\n",
      "    ---------------------------|-----------------\n",
      "    conda-4.11.0               |   py38haa244fe_0        16.9 MB  conda-forge\n",
      "    graphviz-2.38              |       hfd603c8_2        29.3 MB\n",
      "    pydotplus-2.0.2            |             py_2          23 KB  conda-forge\n",
      "    python_abi-3.8             |           2_cp38           4 KB  conda-forge\n",
      "    ------------------------------------------------------------\n",
      "                                           Total:        46.2 MB\n",
      "\n",
      "The following NEW packages will be INSTALLED:\n",
      "\n",
      "  graphviz           pkgs/main/win-64::graphviz-2.38-hfd603c8_2\n",
      "  pydotplus          conda-forge/noarch::pydotplus-2.0.2-py_2\n",
      "  python_abi         conda-forge/win-64::python_abi-3.8-2_cp38\n",
      "\n",
      "The following packages will be UPDATED:\n",
      "\n",
      "  conda              pkgs/main::conda-4.10.3-py38haa95532_0 --> conda-forge::conda-4.11.0-py38haa244fe_0\n",
      "\n",
      "\n",
      "\n",
      "Downloading and Extracting Packages\n",
      "\n",
      "python_abi-3.8       | 4 KB      |            |   0% \n",
      "python_abi-3.8       | 4 KB      | ########## | 100% \n",
      "python_abi-3.8       | 4 KB      | ########## | 100% \n",
      "\n",
      "pydotplus-2.0.2      | 23 KB     |            |   0% \n",
      "pydotplus-2.0.2      | 23 KB     | ######9    |  69% \n",
      "pydotplus-2.0.2      | 23 KB     | ########## | 100% \n",
      "\n",
      "graphviz-2.38        | 29.3 MB   |            |   0% \n",
      "graphviz-2.38        | 29.3 MB   |            |   0% \n",
      "graphviz-2.38        | 29.3 MB   |            |   0% \n",
      "graphviz-2.38        | 29.3 MB   |            |   0% \n",
      "graphviz-2.38        | 29.3 MB   |            |   0% \n",
      "graphviz-2.38        | 29.3 MB   | 1          |   1% \n",
      "graphviz-2.38        | 29.3 MB   | 1          |   1% \n",
      "graphviz-2.38        | 29.3 MB   | 1          |   1% \n",
      "graphviz-2.38        | 29.3 MB   | 1          |   2% \n",
      "graphviz-2.38        | 29.3 MB   | 1          |   2% \n",
      "graphviz-2.38        | 29.3 MB   | 1          |   2% \n",
      "graphviz-2.38        | 29.3 MB   | 2          |   2% \n",
      "graphviz-2.38        | 29.3 MB   | 2          |   2% \n",
      "graphviz-2.38        | 29.3 MB   | 2          |   2% \n",
      "graphviz-2.38        | 29.3 MB   | 2          |   3% \n",
      "graphviz-2.38        | 29.3 MB   | 2          |   3% \n",
      "graphviz-2.38        | 29.3 MB   | 2          |   3% \n",
      "graphviz-2.38        | 29.3 MB   | 3          |   3% \n",
      "graphviz-2.38        | 29.3 MB   | 3          |   3% \n",
      "graphviz-2.38        | 29.3 MB   | 3          |   4% \n",
      "graphviz-2.38        | 29.3 MB   | 3          |   4% \n",
      "graphviz-2.38        | 29.3 MB   | 3          |   4% \n",
      "graphviz-2.38        | 29.3 MB   | 4          |   4% \n",
      "graphviz-2.38        | 29.3 MB   | 4          |   4% \n",
      "graphviz-2.38        | 29.3 MB   | 4          |   4% \n",
      "graphviz-2.38        | 29.3 MB   | 4          |   5% \n",
      "graphviz-2.38        | 29.3 MB   | 4          |   5% \n",
      "graphviz-2.38        | 29.3 MB   | 4          |   5% \n",
      "graphviz-2.38        | 29.3 MB   | 5          |   5% \n",
      "graphviz-2.38        | 29.3 MB   | 5          |   5% \n",
      "graphviz-2.38        | 29.3 MB   | 5          |   6% \n",
      "graphviz-2.38        | 29.3 MB   | 5          |   6% \n",
      "graphviz-2.38        | 29.3 MB   | 6          |   6% \n",
      "graphviz-2.38        | 29.3 MB   | 6          |   6% \n",
      "graphviz-2.38        | 29.3 MB   | 6          |   6% \n",
      "graphviz-2.38        | 29.3 MB   | 6          |   7% \n",
      "graphviz-2.38        | 29.3 MB   | 6          |   7% \n",
      "graphviz-2.38        | 29.3 MB   | 7          |   7% \n",
      "graphviz-2.38        | 29.3 MB   | 7          |   7% \n",
      "graphviz-2.38        | 29.3 MB   | 7          |   7% \n",
      "graphviz-2.38        | 29.3 MB   | 7          |   8% \n",
      "graphviz-2.38        | 29.3 MB   | 7          |   8% \n",
      "graphviz-2.38        | 29.3 MB   | 8          |   8% \n",
      "graphviz-2.38        | 29.3 MB   | 8          |   8% \n",
      "graphviz-2.38        | 29.3 MB   | 8          |   8% \n",
      "graphviz-2.38        | 29.3 MB   | 8          |   9% \n",
      "graphviz-2.38        | 29.3 MB   | 8          |   9% \n",
      "graphviz-2.38        | 29.3 MB   | 8          |   9% \n",
      "graphviz-2.38        | 29.3 MB   | 9          |   9% \n",
      "graphviz-2.38        | 29.3 MB   | 9          |  10% \n",
      "graphviz-2.38        | 29.3 MB   | 9          |  10% \n",
      "graphviz-2.38        | 29.3 MB   | #          |  10% \n",
      "graphviz-2.38        | 29.3 MB   | #          |  10% \n",
      "graphviz-2.38        | 29.3 MB   | #          |  11% \n",
      "graphviz-2.38        | 29.3 MB   | #          |  11% \n",
      "graphviz-2.38        | 29.3 MB   | #          |  11% \n",
      "graphviz-2.38        | 29.3 MB   | #          |  11% \n",
      "graphviz-2.38        | 29.3 MB   | #1         |  11% \n",
      "graphviz-2.38        | 29.3 MB   | #1         |  11% \n",
      "graphviz-2.38        | 29.3 MB   | #1         |  12% \n",
      "graphviz-2.38        | 29.3 MB   | #1         |  12% \n",
      "graphviz-2.38        | 29.3 MB   | #1         |  12% \n",
      "graphviz-2.38        | 29.3 MB   | #2         |  12% \n",
      "graphviz-2.38        | 29.3 MB   | #2         |  12% \n",
      "graphviz-2.38        | 29.3 MB   | #2         |  12% \n",
      "graphviz-2.38        | 29.3 MB   | #2         |  12% \n",
      "graphviz-2.38        | 29.3 MB   | #2         |  13% \n",
      "graphviz-2.38        | 29.3 MB   | #2         |  13% \n",
      "graphviz-2.38        | 29.3 MB   | #2         |  13% \n",
      "graphviz-2.38        | 29.3 MB   | #3         |  13% \n",
      "graphviz-2.38        | 29.3 MB   | #3         |  13% \n",
      "graphviz-2.38        | 29.3 MB   | #3         |  13% \n",
      "graphviz-2.38        | 29.3 MB   | #3         |  14% \n",
      "graphviz-2.38        | 29.3 MB   | #3         |  14% \n",
      "graphviz-2.38        | 29.3 MB   | #3         |  14% \n",
      "graphviz-2.38        | 29.3 MB   | #4         |  14% \n",
      "graphviz-2.38        | 29.3 MB   | #4         |  14% \n",
      "graphviz-2.38        | 29.3 MB   | #4         |  14% \n",
      "graphviz-2.38        | 29.3 MB   | #4         |  14% \n",
      "graphviz-2.38        | 29.3 MB   | #4         |  15% \n",
      "graphviz-2.38        | 29.3 MB   | #4         |  15% \n",
      "graphviz-2.38        | 29.3 MB   | #5         |  15% \n",
      "graphviz-2.38        | 29.3 MB   | #5         |  15% \n",
      "graphviz-2.38        | 29.3 MB   | #5         |  15% \n",
      "graphviz-2.38        | 29.3 MB   | #5         |  16% \n",
      "graphviz-2.38        | 29.3 MB   | #5         |  16% \n",
      "graphviz-2.38        | 29.3 MB   | #5         |  16% \n",
      "graphviz-2.38        | 29.3 MB   | #6         |  16% \n",
      "graphviz-2.38        | 29.3 MB   | #6         |  16% \n",
      "graphviz-2.38        | 29.3 MB   | #6         |  16% \n",
      "graphviz-2.38        | 29.3 MB   | #6         |  17% \n",
      "graphviz-2.38        | 29.3 MB   | #6         |  17% \n",
      "graphviz-2.38        | 29.3 MB   | #6         |  17% \n",
      "graphviz-2.38        | 29.3 MB   | #7         |  17% \n",
      "graphviz-2.38        | 29.3 MB   | #7         |  17% \n",
      "graphviz-2.38        | 29.3 MB   | #7         |  17% \n",
      "graphviz-2.38        | 29.3 MB   | #7         |  18% \n",
      "graphviz-2.38        | 29.3 MB   | #7         |  18% \n",
      "graphviz-2.38        | 29.3 MB   | #7         |  18% \n",
      "graphviz-2.38        | 29.3 MB   | #8         |  18% \n",
      "graphviz-2.38        | 29.3 MB   | #8         |  18% \n",
      "graphviz-2.38        | 29.3 MB   | #8         |  18% \n",
      "graphviz-2.38        | 29.3 MB   | #8         |  19% \n",
      "graphviz-2.38        | 29.3 MB   | #8         |  19% \n",
      "graphviz-2.38        | 29.3 MB   | #8         |  19% \n",
      "graphviz-2.38        | 29.3 MB   | #9         |  19% \n",
      "graphviz-2.38        | 29.3 MB   | #9         |  19% \n",
      "graphviz-2.38        | 29.3 MB   | #9         |  19% \n",
      "graphviz-2.38        | 29.3 MB   | #9         |  20% \n",
      "graphviz-2.38        | 29.3 MB   | #9         |  20% \n",
      "graphviz-2.38        | 29.3 MB   | #9         |  20% \n",
      "graphviz-2.38        | 29.3 MB   | #9         |  20% \n",
      "graphviz-2.38        | 29.3 MB   | ##         |  20% \n",
      "graphviz-2.38        | 29.3 MB   | ##         |  20% \n",
      "graphviz-2.38        | 29.3 MB   | ##         |  21% \n",
      "graphviz-2.38        | 29.3 MB   | ##         |  21% \n",
      "graphviz-2.38        | 29.3 MB   | ##         |  21% \n",
      "graphviz-2.38        | 29.3 MB   | ##         |  21% \n",
      "graphviz-2.38        | 29.3 MB   | ##1        |  21% \n",
      "graphviz-2.38        | 29.3 MB   | ##1        |  21% \n",
      "graphviz-2.38        | 29.3 MB   | ##1        |  21% \n",
      "graphviz-2.38        | 29.3 MB   | ##1        |  21% \n",
      "graphviz-2.38        | 29.3 MB   | ##1        |  22% \n",
      "graphviz-2.38        | 29.3 MB   | ##1        |  22% \n",
      "graphviz-2.38        | 29.3 MB   | ##1        |  22% \n",
      "graphviz-2.38        | 29.3 MB   | ##2        |  22% \n",
      "graphviz-2.38        | 29.3 MB   | ##2        |  22% \n",
      "graphviz-2.38        | 29.3 MB   | ##2        |  22% \n",
      "graphviz-2.38        | 29.3 MB   | ##2        |  23% \n",
      "graphviz-2.38        | 29.3 MB   | ##2        |  23% \n",
      "graphviz-2.38        | 29.3 MB   | ##2        |  23% \n",
      "graphviz-2.38        | 29.3 MB   | ##3        |  23% \n",
      "graphviz-2.38        | 29.3 MB   | ##3        |  23% \n",
      "graphviz-2.38        | 29.3 MB   | ##3        |  23% \n",
      "graphviz-2.38        | 29.3 MB   | ##3        |  24% \n",
      "graphviz-2.38        | 29.3 MB   | ##3        |  24% \n",
      "graphviz-2.38        | 29.3 MB   | ##3        |  24% \n",
      "graphviz-2.38        | 29.3 MB   | ##4        |  24% \n",
      "graphviz-2.38        | 29.3 MB   | ##4        |  24% \n",
      "graphviz-2.38        | 29.3 MB   | ##4        |  24% \n",
      "graphviz-2.38        | 29.3 MB   | ##4        |  25% \n",
      "graphviz-2.38        | 29.3 MB   | ##4        |  25% \n",
      "graphviz-2.38        | 29.3 MB   | ##4        |  25% \n",
      "graphviz-2.38        | 29.3 MB   | ##5        |  25% \n",
      "graphviz-2.38        | 29.3 MB   | ##5        |  25% \n",
      "graphviz-2.38        | 29.3 MB   | ##5        |  25% \n",
      "graphviz-2.38        | 29.3 MB   | ##5        |  25% \n",
      "graphviz-2.38        | 29.3 MB   | ##5        |  25% \n",
      "graphviz-2.38        | 29.3 MB   | ##5        |  26% \n",
      "graphviz-2.38        | 29.3 MB   | ##5        |  26% \n",
      "graphviz-2.38        | 29.3 MB   | ##6        |  26% \n",
      "graphviz-2.38        | 29.3 MB   | ##6        |  26% \n",
      "graphviz-2.38        | 29.3 MB   | ##6        |  26% \n",
      "graphviz-2.38        | 29.3 MB   | ##6        |  27% \n",
      "graphviz-2.38        | 29.3 MB   | ##6        |  27% \n",
      "graphviz-2.38        | 29.3 MB   | ##6        |  27% \n",
      "graphviz-2.38        | 29.3 MB   | ##6        |  27% \n",
      "graphviz-2.38        | 29.3 MB   | ##7        |  27% \n",
      "graphviz-2.38        | 29.3 MB   | ##7        |  27% \n",
      "graphviz-2.38        | 29.3 MB   | ##7        |  27% \n",
      "graphviz-2.38        | 29.3 MB   | ##7        |  28% \n",
      "graphviz-2.38        | 29.3 MB   | ##7        |  28% \n"
     ]
    },
    {
     "name": "stdout",
     "output_type": "stream",
     "text": [
      "graphviz-2.38        | 29.3 MB   | ##7        |  28% \n",
      "graphviz-2.38        | 29.3 MB   | ##8        |  28% \n",
      "graphviz-2.38        | 29.3 MB   | ##8        |  28% \n",
      "graphviz-2.38        | 29.3 MB   | ##8        |  29% \n",
      "graphviz-2.38        | 29.3 MB   | ##8        |  29% \n",
      "graphviz-2.38        | 29.3 MB   | ##8        |  29% \n",
      "graphviz-2.38        | 29.3 MB   | ##9        |  29% \n",
      "graphviz-2.38        | 29.3 MB   | ##9        |  29% \n",
      "graphviz-2.38        | 29.3 MB   | ##9        |  29% \n",
      "graphviz-2.38        | 29.3 MB   | ##9        |  30% \n",
      "graphviz-2.38        | 29.3 MB   | ##9        |  30% \n",
      "graphviz-2.38        | 29.3 MB   | ###        |  30% \n",
      "graphviz-2.38        | 29.3 MB   | ###        |  30% \n",
      "graphviz-2.38        | 29.3 MB   | ###        |  30% \n",
      "graphviz-2.38        | 29.3 MB   | ###        |  31% \n",
      "graphviz-2.38        | 29.3 MB   | ###        |  31% \n",
      "graphviz-2.38        | 29.3 MB   | ###1       |  31% \n",
      "graphviz-2.38        | 29.3 MB   | ###1       |  31% \n",
      "graphviz-2.38        | 29.3 MB   | ###1       |  32% \n",
      "graphviz-2.38        | 29.3 MB   | ###1       |  32% \n",
      "graphviz-2.38        | 29.3 MB   | ###1       |  32% \n",
      "graphviz-2.38        | 29.3 MB   | ###2       |  32% \n",
      "graphviz-2.38        | 29.3 MB   | ###2       |  32% \n",
      "graphviz-2.38        | 29.3 MB   | ###2       |  32% \n",
      "graphviz-2.38        | 29.3 MB   | ###2       |  33% \n",
      "graphviz-2.38        | 29.3 MB   | ###2       |  33% \n",
      "graphviz-2.38        | 29.3 MB   | ###3       |  33% \n",
      "graphviz-2.38        | 29.3 MB   | ###3       |  33% \n",
      "graphviz-2.38        | 29.3 MB   | ###3       |  33% \n",
      "graphviz-2.38        | 29.3 MB   | ###3       |  34% \n",
      "graphviz-2.38        | 29.3 MB   | ###3       |  34% \n",
      "graphviz-2.38        | 29.3 MB   | ###4       |  34% \n",
      "graphviz-2.38        | 29.3 MB   | ###4       |  34% \n",
      "graphviz-2.38        | 29.3 MB   | ###4       |  35% \n",
      "graphviz-2.38        | 29.3 MB   | ###4       |  35% \n",
      "graphviz-2.38        | 29.3 MB   | ###4       |  35% \n",
      "graphviz-2.38        | 29.3 MB   | ###5       |  35% \n",
      "graphviz-2.38        | 29.3 MB   | ###5       |  36% \n",
      "graphviz-2.38        | 29.3 MB   | ###5       |  36% \n",
      "graphviz-2.38        | 29.3 MB   | ###6       |  36% \n",
      "graphviz-2.38        | 29.3 MB   | ###6       |  36% \n",
      "graphviz-2.38        | 29.3 MB   | ###6       |  37% \n",
      "graphviz-2.38        | 29.3 MB   | ###6       |  37% \n",
      "graphviz-2.38        | 29.3 MB   | ###7       |  37% \n",
      "graphviz-2.38        | 29.3 MB   | ###7       |  37% \n",
      "graphviz-2.38        | 29.3 MB   | ###7       |  38% \n",
      "graphviz-2.38        | 29.3 MB   | ###7       |  38% \n",
      "graphviz-2.38        | 29.3 MB   | ###8       |  38% \n",
      "graphviz-2.38        | 29.3 MB   | ###8       |  38% \n",
      "graphviz-2.38        | 29.3 MB   | ###8       |  39% \n",
      "graphviz-2.38        | 29.3 MB   | ###8       |  39% \n",
      "graphviz-2.38        | 29.3 MB   | ###9       |  39% \n",
      "graphviz-2.38        | 29.3 MB   | ###9       |  39% \n",
      "graphviz-2.38        | 29.3 MB   | ###9       |  40% \n",
      "graphviz-2.38        | 29.3 MB   | ###9       |  40% \n",
      "graphviz-2.38        | 29.3 MB   | ####       |  40% \n",
      "graphviz-2.38        | 29.3 MB   | ####       |  40% \n",
      "graphviz-2.38        | 29.3 MB   | ####       |  41% \n",
      "graphviz-2.38        | 29.3 MB   | ####       |  41% \n",
      "graphviz-2.38        | 29.3 MB   | ####1      |  41% \n",
      "graphviz-2.38        | 29.3 MB   | ####1      |  41% \n",
      "graphviz-2.38        | 29.3 MB   | ####1      |  41% \n",
      "graphviz-2.38        | 29.3 MB   | ####1      |  42% \n",
      "graphviz-2.38        | 29.3 MB   | ####1      |  42% \n",
      "graphviz-2.38        | 29.3 MB   | ####2      |  42% \n",
      "graphviz-2.38        | 29.3 MB   | ####2      |  42% \n",
      "graphviz-2.38        | 29.3 MB   | ####2      |  42% \n",
      "graphviz-2.38        | 29.3 MB   | ####2      |  43% \n",
      "graphviz-2.38        | 29.3 MB   | ####2      |  43% \n",
      "graphviz-2.38        | 29.3 MB   | ####3      |  43% \n",
      "graphviz-2.38        | 29.3 MB   | ####3      |  43% \n",
      "graphviz-2.38        | 29.3 MB   | ####3      |  43% \n",
      "graphviz-2.38        | 29.3 MB   | ####3      |  44% \n",
      "graphviz-2.38        | 29.3 MB   | ####3      |  44% \n",
      "graphviz-2.38        | 29.3 MB   | ####3      |  44% \n",
      "graphviz-2.38        | 29.3 MB   | ####4      |  44% \n",
      "graphviz-2.38        | 29.3 MB   | ####4      |  44% \n",
      "graphviz-2.38        | 29.3 MB   | ####4      |  45% \n",
      "graphviz-2.38        | 29.3 MB   | ####4      |  45% \n",
      "graphviz-2.38        | 29.3 MB   | ####5      |  45% \n",
      "graphviz-2.38        | 29.3 MB   | ####5      |  45% \n",
      "graphviz-2.38        | 29.3 MB   | ####5      |  45% \n",
      "graphviz-2.38        | 29.3 MB   | ####5      |  46% \n",
      "graphviz-2.38        | 29.3 MB   | ####5      |  46% \n",
      "graphviz-2.38        | 29.3 MB   | ####6      |  46% \n",
      "graphviz-2.38        | 29.3 MB   | ####6      |  46% \n",
      "graphviz-2.38        | 29.3 MB   | ####6      |  46% \n",
      "graphviz-2.38        | 29.3 MB   | ####6      |  47% \n",
      "graphviz-2.38        | 29.3 MB   | ####6      |  47% \n",
      "graphviz-2.38        | 29.3 MB   | ####7      |  47% \n",
      "graphviz-2.38        | 29.3 MB   | ####7      |  47% \n",
      "graphviz-2.38        | 29.3 MB   | ####7      |  48% \n",
      "graphviz-2.38        | 29.3 MB   | ####7      |  48% \n",
      "graphviz-2.38        | 29.3 MB   | ####8      |  48% \n",
      "graphviz-2.38        | 29.3 MB   | ####8      |  48% \n",
      "graphviz-2.38        | 29.3 MB   | ####8      |  49% \n",
      "graphviz-2.38        | 29.3 MB   | ####9      |  49% \n",
      "graphviz-2.38        | 29.3 MB   | ####9      |  49% \n",
      "graphviz-2.38        | 29.3 MB   | ####9      |  50% \n",
      "graphviz-2.38        | 29.3 MB   | ####9      |  50% \n",
      "graphviz-2.38        | 29.3 MB   | ####9      |  50% \n",
      "graphviz-2.38        | 29.3 MB   | #####      |  50% \n",
      "graphviz-2.38        | 29.3 MB   | #####      |  50% \n",
      "graphviz-2.38        | 29.3 MB   | #####      |  51% \n",
      "graphviz-2.38        | 29.3 MB   | #####      |  51% \n",
      "graphviz-2.38        | 29.3 MB   | #####1     |  51% \n",
      "graphviz-2.38        | 29.3 MB   | #####1     |  51% \n",
      "graphviz-2.38        | 29.3 MB   | #####1     |  52% \n",
      "graphviz-2.38        | 29.3 MB   | #####1     |  52% \n",
      "graphviz-2.38        | 29.3 MB   | #####2     |  52% \n",
      "graphviz-2.38        | 29.3 MB   | #####2     |  52% \n",
      "graphviz-2.38        | 29.3 MB   | #####2     |  52% \n",
      "graphviz-2.38        | 29.3 MB   | #####2     |  53% \n",
      "graphviz-2.38        | 29.3 MB   | #####2     |  53% \n",
      "graphviz-2.38        | 29.3 MB   | #####3     |  53% \n",
      "graphviz-2.38        | 29.3 MB   | #####3     |  53% \n",
      "graphviz-2.38        | 29.3 MB   | #####3     |  54% \n",
      "graphviz-2.38        | 29.3 MB   | #####3     |  54% \n",
      "graphviz-2.38        | 29.3 MB   | #####4     |  54% \n",
      "graphviz-2.38        | 29.3 MB   | #####4     |  54% \n",
      "graphviz-2.38        | 29.3 MB   | #####4     |  55% \n",
      "graphviz-2.38        | 29.3 MB   | #####4     |  55% \n",
      "graphviz-2.38        | 29.3 MB   | #####4     |  55% \n",
      "graphviz-2.38        | 29.3 MB   | #####5     |  55% \n",
      "graphviz-2.38        | 29.3 MB   | #####5     |  55% \n",
      "graphviz-2.38        | 29.3 MB   | #####5     |  56% \n",
      "graphviz-2.38        | 29.3 MB   | #####5     |  56% \n",
      "graphviz-2.38        | 29.3 MB   | #####6     |  56% \n",
      "graphviz-2.38        | 29.3 MB   | #####6     |  56% \n",
      "graphviz-2.38        | 29.3 MB   | #####6     |  57% \n",
      "graphviz-2.38        | 29.3 MB   | #####6     |  57% \n",
      "graphviz-2.38        | 29.3 MB   | #####7     |  57% \n",
      "graphviz-2.38        | 29.3 MB   | #####7     |  57% \n",
      "graphviz-2.38        | 29.3 MB   | #####7     |  58% \n",
      "graphviz-2.38        | 29.3 MB   | #####7     |  58% \n",
      "graphviz-2.38        | 29.3 MB   | #####8     |  58% \n",
      "graphviz-2.38        | 29.3 MB   | #####8     |  58% \n",
      "graphviz-2.38        | 29.3 MB   | #####8     |  58% \n",
      "graphviz-2.38        | 29.3 MB   | #####8     |  59% \n",
      "graphviz-2.38        | 29.3 MB   | #####8     |  59% \n",
      "graphviz-2.38        | 29.3 MB   | #####9     |  59% \n",
      "graphviz-2.38        | 29.3 MB   | #####9     |  59% \n",
      "graphviz-2.38        | 29.3 MB   | #####9     |  60% \n",
      "graphviz-2.38        | 29.3 MB   | #####9     |  60% \n",
      "graphviz-2.38        | 29.3 MB   | ######     |  60% \n",
      "graphviz-2.38        | 29.3 MB   | ######     |  60% \n",
      "graphviz-2.38        | 29.3 MB   | ######     |  61% \n",
      "graphviz-2.38        | 29.3 MB   | ######     |  61% \n",
      "graphviz-2.38        | 29.3 MB   | ######1    |  61% \n",
      "graphviz-2.38        | 29.3 MB   | ######1    |  61% \n",
      "graphviz-2.38        | 29.3 MB   | ######1    |  62% \n",
      "graphviz-2.38        | 29.3 MB   | ######1    |  62% \n",
      "graphviz-2.38        | 29.3 MB   | ######2    |  62% \n",
      "graphviz-2.38        | 29.3 MB   | ######2    |  62% \n",
      "graphviz-2.38        | 29.3 MB   | ######2    |  63% \n",
      "graphviz-2.38        | 29.3 MB   | ######2    |  63% \n",
      "graphviz-2.38        | 29.3 MB   | ######2    |  63% \n",
      "graphviz-2.38        | 29.3 MB   | ######3    |  63% \n",
      "graphviz-2.38        | 29.3 MB   | ######3    |  63% \n",
      "graphviz-2.38        | 29.3 MB   | ######3    |  64% \n",
      "graphviz-2.38        | 29.3 MB   | ######3    |  64% \n",
      "graphviz-2.38        | 29.3 MB   | ######4    |  64% \n",
      "graphviz-2.38        | 29.3 MB   | ######4    |  64% \n",
      "graphviz-2.38        | 29.3 MB   | ######4    |  65% \n",
      "graphviz-2.38        | 29.3 MB   | ######4    |  65% \n",
      "graphviz-2.38        | 29.3 MB   | ######5    |  65% \n",
      "graphviz-2.38        | 29.3 MB   | ######5    |  65% \n",
      "graphviz-2.38        | 29.3 MB   | ######5    |  66% \n",
      "graphviz-2.38        | 29.3 MB   | ######5    |  66% \n",
      "graphviz-2.38        | 29.3 MB   | ######6    |  66% \n",
      "graphviz-2.38        | 29.3 MB   | ######6    |  66% \n",
      "graphviz-2.38        | 29.3 MB   | ######6    |  67% \n",
      "graphviz-2.38        | 29.3 MB   | ######6    |  67% \n",
      "graphviz-2.38        | 29.3 MB   | ######6    |  67% \n",
      "graphviz-2.38        | 29.3 MB   | ######7    |  67% \n",
      "graphviz-2.38        | 29.3 MB   | ######7    |  67% \n",
      "graphviz-2.38        | 29.3 MB   | ######7    |  68% \n",
      "graphviz-2.38        | 29.3 MB   | ######7    |  68% \n",
      "graphviz-2.38        | 29.3 MB   | ######8    |  68% \n",
      "graphviz-2.38        | 29.3 MB   | ######8    |  68% \n",
      "graphviz-2.38        | 29.3 MB   | ######8    |  69% \n",
      "graphviz-2.38        | 29.3 MB   | ######8    |  69% \n",
      "graphviz-2.38        | 29.3 MB   | ######9    |  69% \n",
      "graphviz-2.38        | 29.3 MB   | ######9    |  69% \n",
      "graphviz-2.38        | 29.3 MB   | ######9    |  69% \n",
      "graphviz-2.38        | 29.3 MB   | ######9    |  70% \n",
      "graphviz-2.38        | 29.3 MB   | ######9    |  70% \n",
      "graphviz-2.38        | 29.3 MB   | #######    |  70% \n",
      "graphviz-2.38        | 29.3 MB   | #######    |  70% \n",
      "graphviz-2.38        | 29.3 MB   | #######    |  71% \n",
      "graphviz-2.38        | 29.3 MB   | #######    |  71% \n",
      "graphviz-2.38        | 29.3 MB   | #######    |  71% \n",
      "graphviz-2.38        | 29.3 MB   | #######1   |  71% \n",
      "graphviz-2.38        | 29.3 MB   | #######1   |  71% \n",
      "graphviz-2.38        | 29.3 MB   | #######1   |  72% \n",
      "graphviz-2.38        | 29.3 MB   | #######1   |  72% \n",
      "graphviz-2.38        | 29.3 MB   | #######1   |  72% \n",
      "graphviz-2.38        | 29.3 MB   | #######2   |  72% \n",
      "graphviz-2.38        | 29.3 MB   | #######2   |  72% \n",
      "graphviz-2.38        | 29.3 MB   | #######2   |  72% \n",
      "graphviz-2.38        | 29.3 MB   | #######2   |  73% \n",
      "graphviz-2.38        | 29.3 MB   | #######2   |  73% \n",
      "graphviz-2.38        | 29.3 MB   | #######3   |  73% \n",
      "graphviz-2.38        | 29.3 MB   | #######3   |  73% \n",
      "graphviz-2.38        | 29.3 MB   | #######3   |  73% \n",
      "graphviz-2.38        | 29.3 MB   | #######3   |  74% \n",
      "graphviz-2.38        | 29.3 MB   | #######3   |  74% \n",
      "graphviz-2.38        | 29.3 MB   | #######3   |  74% \n",
      "graphviz-2.38        | 29.3 MB   | #######4   |  74% \n",
      "graphviz-2.38        | 29.3 MB   | #######4   |  74% \n",
      "graphviz-2.38        | 29.3 MB   | #######4   |  74% \n",
      "graphviz-2.38        | 29.3 MB   | #######4   |  75% \n",
      "graphviz-2.38        | 29.3 MB   | #######4   |  75% \n",
      "graphviz-2.38        | 29.3 MB   | #######4   |  75% \n",
      "graphviz-2.38        | 29.3 MB   | #######5   |  75% \n",
      "graphviz-2.38        | 29.3 MB   | #######5   |  75% \n",
      "graphviz-2.38        | 29.3 MB   | #######5   |  75% \n",
      "graphviz-2.38        | 29.3 MB   | #######5   |  76% \n",
      "graphviz-2.38        | 29.3 MB   | #######5   |  76% \n",
      "graphviz-2.38        | 29.3 MB   | #######5   |  76% \n",
      "graphviz-2.38        | 29.3 MB   | #######6   |  76% \n",
      "graphviz-2.38        | 29.3 MB   | #######6   |  76% \n",
      "graphviz-2.38        | 29.3 MB   | #######6   |  76% \n",
      "graphviz-2.38        | 29.3 MB   | #######6   |  77% \n",
      "graphviz-2.38        | 29.3 MB   | #######6   |  77% \n",
      "graphviz-2.38        | 29.3 MB   | #######6   |  77% \n",
      "graphviz-2.38        | 29.3 MB   | #######7   |  77% \n",
      "graphviz-2.38        | 29.3 MB   | #######7   |  77% \n",
      "graphviz-2.38        | 29.3 MB   | #######7   |  77% \n",
      "graphviz-2.38        | 29.3 MB   | #######7   |  78% \n",
      "graphviz-2.38        | 29.3 MB   | #######7   |  78% \n",
      "graphviz-2.38        | 29.3 MB   | #######8   |  78% \n",
      "graphviz-2.38        | 29.3 MB   | #######8   |  78% \n",
      "graphviz-2.38        | 29.3 MB   | #######8   |  78% \n",
      "graphviz-2.38        | 29.3 MB   | #######8   |  79% \n",
      "graphviz-2.38        | 29.3 MB   | #######8   |  79% \n",
      "graphviz-2.38        | 29.3 MB   | #######8   |  79% \n",
      "graphviz-2.38        | 29.3 MB   | #######9   |  79% \n",
      "graphviz-2.38        | 29.3 MB   | #######9   |  79% \n",
      "graphviz-2.38        | 29.3 MB   | #######9   |  80% \n",
      "graphviz-2.38        | 29.3 MB   | #######9   |  80% \n",
      "graphviz-2.38        | 29.3 MB   | ########   |  80% \n",
      "graphviz-2.38        | 29.3 MB   | ########   |  80% \n",
      "graphviz-2.38        | 29.3 MB   | ########   |  80% \n",
      "graphviz-2.38        | 29.3 MB   | ########   |  81% \n",
      "graphviz-2.38        | 29.3 MB   | ########   |  81% \n",
      "graphviz-2.38        | 29.3 MB   | ########1  |  81% \n",
      "graphviz-2.38        | 29.3 MB   | ########1  |  81% \n",
      "graphviz-2.38        | 29.3 MB   | ########1  |  81% \n",
      "graphviz-2.38        | 29.3 MB   | ########1  |  82% \n",
      "graphviz-2.38        | 29.3 MB   | ########1  |  82% \n",
      "graphviz-2.38        | 29.3 MB   | ########1  |  82% \n",
      "graphviz-2.38        | 29.3 MB   | ########2  |  82% \n",
      "graphviz-2.38        | 29.3 MB   | ########2  |  82% \n",
      "graphviz-2.38        | 29.3 MB   | ########2  |  82% \n",
      "graphviz-2.38        | 29.3 MB   | ########2  |  82% \n",
      "graphviz-2.38        | 29.3 MB   | ########2  |  83% \n",
      "graphviz-2.38        | 29.3 MB   | ########2  |  83% \n",
      "graphviz-2.38        | 29.3 MB   | ########2  |  83% \n",
      "graphviz-2.38        | 29.3 MB   | ########2  |  83% \n",
      "graphviz-2.38        | 29.3 MB   | ########3  |  83% \n",
      "graphviz-2.38        | 29.3 MB   | ########3  |  83% \n",
      "graphviz-2.38        | 29.3 MB   | ########3  |  84% \n",
      "graphviz-2.38        | 29.3 MB   | ########3  |  84% \n",
      "graphviz-2.38        | 29.3 MB   | ########3  |  84% \n",
      "graphviz-2.38        | 29.3 MB   | ########4  |  84% \n",
      "graphviz-2.38        | 29.3 MB   | ########4  |  84% \n",
      "graphviz-2.38        | 29.3 MB   | ########4  |  84% \n",
      "graphviz-2.38        | 29.3 MB   | ########4  |  85% \n",
      "graphviz-2.38        | 29.3 MB   | ########4  |  85% \n",
      "graphviz-2.38        | 29.3 MB   | ########5  |  85% \n",
      "graphviz-2.38        | 29.3 MB   | ########5  |  85% \n",
      "graphviz-2.38        | 29.3 MB   | ########5  |  86% \n",
      "graphviz-2.38        | 29.3 MB   | ########5  |  86% \n",
      "graphviz-2.38        | 29.3 MB   | ########5  |  86% \n",
      "graphviz-2.38        | 29.3 MB   | ########6  |  86% \n",
      "graphviz-2.38        | 29.3 MB   | ########6  |  87% \n",
      "graphviz-2.38        | 29.3 MB   | ########6  |  87% \n",
      "graphviz-2.38        | 29.3 MB   | ########6  |  87% \n",
      "graphviz-2.38        | 29.3 MB   | ########7  |  87% \n",
      "graphviz-2.38        | 29.3 MB   | ########7  |  88% \n",
      "graphviz-2.38        | 29.3 MB   | ########7  |  88% \n",
      "graphviz-2.38        | 29.3 MB   | ########7  |  88% \n",
      "graphviz-2.38        | 29.3 MB   | ########8  |  88% \n",
      "graphviz-2.38        | 29.3 MB   | ########8  |  88% \n",
      "graphviz-2.38        | 29.3 MB   | ########8  |  89% \n",
      "graphviz-2.38        | 29.3 MB   | ########9  |  89% \n",
      "graphviz-2.38        | 29.3 MB   | ########9  |  89% \n",
      "graphviz-2.38        | 29.3 MB   | ########9  |  89% \n",
      "graphviz-2.38        | 29.3 MB   | ########9  |  90% \n",
      "graphviz-2.38        | 29.3 MB   | ########9  |  90% \n",
      "graphviz-2.38        | 29.3 MB   | #########  |  90% \n",
      "graphviz-2.38        | 29.3 MB   | #########  |  91% \n",
      "graphviz-2.38        | 29.3 MB   | #########  |  91% \n",
      "graphviz-2.38        | 29.3 MB   | #########1 |  91% \n",
      "graphviz-2.38        | 29.3 MB   | #########1 |  91% \n",
      "graphviz-2.38        | 29.3 MB   | #########1 |  92% \n",
      "graphviz-2.38        | 29.3 MB   | #########1 |  92% \n",
      "graphviz-2.38        | 29.3 MB   | #########2 |  92% \n",
      "graphviz-2.38        | 29.3 MB   | #########2 |  92% \n",
      "graphviz-2.38        | 29.3 MB   | #########2 |  92% \n",
      "graphviz-2.38        | 29.3 MB   | #########2 |  93% \n",
      "graphviz-2.38        | 29.3 MB   | #########3 |  93% \n",
      "graphviz-2.38        | 29.3 MB   | #########3 |  93% \n",
      "graphviz-2.38        | 29.3 MB   | #########3 |  93% \n",
      "graphviz-2.38        | 29.3 MB   | #########3 |  94% \n",
      "graphviz-2.38        | 29.3 MB   | #########3 |  94% \n",
      "graphviz-2.38        | 29.3 MB   | #########4 |  94% \n",
      "graphviz-2.38        | 29.3 MB   | #########4 |  94% \n",
      "graphviz-2.38        | 29.3 MB   | #########4 |  95% \n",
      "graphviz-2.38        | 29.3 MB   | #########4 |  95% \n",
      "graphviz-2.38        | 29.3 MB   | #########5 |  95% \n",
      "graphviz-2.38        | 29.3 MB   | #########5 |  95% \n",
      "graphviz-2.38        | 29.3 MB   | #########5 |  95% \n",
      "graphviz-2.38        | 29.3 MB   | #########5 |  96% \n",
      "graphviz-2.38        | 29.3 MB   | #########5 |  96% \n",
      "graphviz-2.38        | 29.3 MB   | #########6 |  96% \n",
      "graphviz-2.38        | 29.3 MB   | #########6 |  96% \n",
      "graphviz-2.38        | 29.3 MB   | #########6 |  97% \n",
      "graphviz-2.38        | 29.3 MB   | #########6 |  97% \n",
      "graphviz-2.38        | 29.3 MB   | #########7 |  97% \n",
      "graphviz-2.38        | 29.3 MB   | #########7 |  97% \n",
      "graphviz-2.38        | 29.3 MB   | #########7 |  97% \n",
      "graphviz-2.38        | 29.3 MB   | #########7 |  98% \n",
      "graphviz-2.38        | 29.3 MB   | #########7 |  98% \n",
      "graphviz-2.38        | 29.3 MB   | #########8 |  98% \n",
      "graphviz-2.38        | 29.3 MB   | #########8 |  98% \n",
      "graphviz-2.38        | 29.3 MB   | #########8 |  99% \n",
      "graphviz-2.38        | 29.3 MB   | #########8 |  99% \n",
      "graphviz-2.38        | 29.3 MB   | #########9 |  99% \n",
      "graphviz-2.38        | 29.3 MB   | #########9 |  99% \n",
      "graphviz-2.38        | 29.3 MB   | #########9 | 100% \n",
      "graphviz-2.38        | 29.3 MB   | #########9 | 100% \n",
      "graphviz-2.38        | 29.3 MB   | ########## | 100% \n",
      "graphviz-2.38        | 29.3 MB   | ########## | 100% \n",
      "\n",
      "conda-4.11.0         | 16.9 MB   |            |   0% \n",
      "conda-4.11.0         | 16.9 MB   |            |   0% \n",
      "conda-4.11.0         | 16.9 MB   |            |   0% \n",
      "conda-4.11.0         | 16.9 MB   |            |   1% \n",
      "conda-4.11.0         | 16.9 MB   | 1          |   2% \n",
      "conda-4.11.0         | 16.9 MB   | 2          |   2% \n",
      "conda-4.11.0         | 16.9 MB   | 2          |   2% \n",
      "conda-4.11.0         | 16.9 MB   | 3          |   3% \n",
      "conda-4.11.0         | 16.9 MB   | 3          |   4% \n",
      "conda-4.11.0         | 16.9 MB   | 3          |   4% \n",
      "conda-4.11.0         | 16.9 MB   | 4          |   4% \n",
      "conda-4.11.0         | 16.9 MB   | 4          |   5% \n",
      "conda-4.11.0         | 16.9 MB   | 5          |   5% \n",
      "conda-4.11.0         | 16.9 MB   | 5          |   5% \n",
      "conda-4.11.0         | 16.9 MB   | 5          |   6% \n",
      "conda-4.11.0         | 16.9 MB   | 6          |   6% \n",
      "conda-4.11.0         | 16.9 MB   | 6          |   7% \n",
      "conda-4.11.0         | 16.9 MB   | 7          |   7% \n",
      "conda-4.11.0         | 16.9 MB   | 7          |   7% \n",
      "conda-4.11.0         | 16.9 MB   | 7          |   8% \n",
      "conda-4.11.0         | 16.9 MB   | 8          |   8% \n",
      "conda-4.11.0         | 16.9 MB   | 8          |   9% \n",
      "conda-4.11.0         | 16.9 MB   | 9          |   9% \n",
      "conda-4.11.0         | 16.9 MB   | 9          |  10% \n",
      "conda-4.11.0         | 16.9 MB   | 9          |  10% \n",
      "conda-4.11.0         | 16.9 MB   | #          |  10% \n",
      "conda-4.11.0         | 16.9 MB   | #          |  11% \n",
      "conda-4.11.0         | 16.9 MB   | #1         |  11% \n",
      "conda-4.11.0         | 16.9 MB   | #1         |  12% \n",
      "conda-4.11.0         | 16.9 MB   | #2         |  12% \n",
      "conda-4.11.0         | 16.9 MB   | #2         |  12% \n",
      "conda-4.11.0         | 16.9 MB   | #2         |  13% \n",
      "conda-4.11.0         | 16.9 MB   | #3         |  13% \n",
      "conda-4.11.0         | 16.9 MB   | #3         |  13% \n",
      "conda-4.11.0         | 16.9 MB   | #3         |  14% \n",
      "conda-4.11.0         | 16.9 MB   | #4         |  14% \n",
      "conda-4.11.0         | 16.9 MB   | #4         |  15% \n",
      "conda-4.11.0         | 16.9 MB   | #4         |  15% \n",
      "conda-4.11.0         | 16.9 MB   | #5         |  15% \n",
      "conda-4.11.0         | 16.9 MB   | #5         |  16% \n",
      "conda-4.11.0         | 16.9 MB   | #6         |  16% \n",
      "conda-4.11.0         | 16.9 MB   | #6         |  16% \n",
      "conda-4.11.0         | 16.9 MB   | #6         |  17% \n",
      "conda-4.11.0         | 16.9 MB   | #7         |  17% \n",
      "conda-4.11.0         | 16.9 MB   | #7         |  18% \n",
      "conda-4.11.0         | 16.9 MB   | #8         |  18% \n",
      "conda-4.11.0         | 16.9 MB   | #8         |  19% \n",
      "conda-4.11.0         | 16.9 MB   | #9         |  19% \n",
      "conda-4.11.0         | 16.9 MB   | #9         |  19% \n",
      "conda-4.11.0         | 16.9 MB   | #9         |  20% \n",
      "conda-4.11.0         | 16.9 MB   | ##         |  20% \n",
      "conda-4.11.0         | 16.9 MB   | ##         |  21% \n",
      "conda-4.11.0         | 16.9 MB   | ##         |  21% \n",
      "conda-4.11.0         | 16.9 MB   | ##1        |  21% \n",
      "conda-4.11.0         | 16.9 MB   | ##1        |  22% \n",
      "conda-4.11.0         | 16.9 MB   | ##2        |  22% \n",
      "conda-4.11.0         | 16.9 MB   | ##2        |  23% \n",
      "conda-4.11.0         | 16.9 MB   | ##3        |  23% \n",
      "conda-4.11.0         | 16.9 MB   | ##3        |  23% \n",
      "conda-4.11.0         | 16.9 MB   | ##3        |  24% \n",
      "conda-4.11.0         | 16.9 MB   | ##4        |  24% \n",
      "conda-4.11.0         | 16.9 MB   | ##4        |  25% \n",
      "conda-4.11.0         | 16.9 MB   | ##5        |  25% \n",
      "conda-4.11.0         | 16.9 MB   | ##5        |  25% \n",
      "conda-4.11.0         | 16.9 MB   | ##5        |  26% \n",
      "conda-4.11.0         | 16.9 MB   | ##6        |  26% \n",
      "conda-4.11.0         | 16.9 MB   | ##6        |  27% \n",
      "conda-4.11.0         | 16.9 MB   | ##7        |  27% \n",
      "conda-4.11.0         | 16.9 MB   | ##7        |  27% \n",
      "conda-4.11.0         | 16.9 MB   | ##7        |  28% \n",
      "conda-4.11.0         | 16.9 MB   | ##8        |  28% \n",
      "conda-4.11.0         | 16.9 MB   | ##8        |  29% \n",
      "conda-4.11.0         | 16.9 MB   | ##9        |  29% \n",
      "conda-4.11.0         | 16.9 MB   | ##9        |  29% \n",
      "conda-4.11.0         | 16.9 MB   | ##9        |  30% \n",
      "conda-4.11.0         | 16.9 MB   | ###        |  30% \n",
      "conda-4.11.0         | 16.9 MB   | ###        |  31% \n",
      "conda-4.11.0         | 16.9 MB   | ###        |  31% \n",
      "conda-4.11.0         | 16.9 MB   | ###1       |  32% \n",
      "conda-4.11.0         | 16.9 MB   | ###1       |  32% \n",
      "conda-4.11.0         | 16.9 MB   | ###2       |  32% \n",
      "conda-4.11.0         | 16.9 MB   | ###2       |  33% \n",
      "conda-4.11.0         | 16.9 MB   | ###3       |  33% \n",
      "conda-4.11.0         | 16.9 MB   | ###3       |  34% \n",
      "conda-4.11.0         | 16.9 MB   | ###3       |  34% \n",
      "conda-4.11.0         | 16.9 MB   | ###4       |  34% \n",
      "conda-4.11.0         | 16.9 MB   | ###4       |  35% \n",
      "conda-4.11.0         | 16.9 MB   | ###5       |  35% \n",
      "conda-4.11.0         | 16.9 MB   | ###5       |  36% \n",
      "conda-4.11.0         | 16.9 MB   | ###6       |  36% \n",
      "conda-4.11.0         | 16.9 MB   | ###6       |  37% \n",
      "conda-4.11.0         | 16.9 MB   | ###7       |  37% \n",
      "conda-4.11.0         | 16.9 MB   | ###7       |  38% \n",
      "conda-4.11.0         | 16.9 MB   | ###8       |  38% \n",
      "conda-4.11.0         | 16.9 MB   | ###8       |  39% \n",
      "conda-4.11.0         | 16.9 MB   | ###9       |  39% \n",
      "conda-4.11.0         | 16.9 MB   | ###9       |  39% \n",
      "conda-4.11.0         | 16.9 MB   | ###9       |  40% \n",
      "conda-4.11.0         | 16.9 MB   | ###9       |  40% \n",
      "conda-4.11.0         | 16.9 MB   | ####       |  40% \n",
      "conda-4.11.0         | 16.9 MB   | ####       |  41% \n",
      "conda-4.11.0         | 16.9 MB   | ####1      |  41% \n",
      "conda-4.11.0         | 16.9 MB   | ####1      |  41% \n",
      "conda-4.11.0         | 16.9 MB   | ####1      |  42% \n",
      "conda-4.11.0         | 16.9 MB   | ####2      |  42% \n",
      "conda-4.11.0         | 16.9 MB   | ####2      |  43% \n",
      "conda-4.11.0         | 16.9 MB   | ####3      |  43% \n",
      "conda-4.11.0         | 16.9 MB   | ####3      |  43% \n",
      "conda-4.11.0         | 16.9 MB   | ####3      |  44% \n",
      "conda-4.11.0         | 16.9 MB   | ####4      |  44% \n",
      "conda-4.11.0         | 16.9 MB   | ####4      |  45% \n",
      "conda-4.11.0         | 16.9 MB   | ####5      |  45% \n",
      "conda-4.11.0         | 16.9 MB   | ####5      |  46% \n",
      "conda-4.11.0         | 16.9 MB   | ####6      |  46% \n",
      "conda-4.11.0         | 16.9 MB   | ####6      |  47% \n",
      "conda-4.11.0         | 16.9 MB   | ####6      |  47% \n",
      "conda-4.11.0         | 16.9 MB   | ####7      |  47% \n",
      "conda-4.11.0         | 16.9 MB   | ####7      |  48% \n",
      "conda-4.11.0         | 16.9 MB   | ####8      |  48% \n",
      "conda-4.11.0         | 16.9 MB   | ####8      |  49% \n",
      "conda-4.11.0         | 16.9 MB   | ####9      |  49% \n",
      "conda-4.11.0         | 16.9 MB   | ####9      |  49% \n",
      "conda-4.11.0         | 16.9 MB   | ####9      |  50% \n",
      "conda-4.11.0         | 16.9 MB   | #####      |  50% \n",
      "conda-4.11.0         | 16.9 MB   | #####      |  51% \n",
      "conda-4.11.0         | 16.9 MB   | #####      |  51% \n",
      "conda-4.11.0         | 16.9 MB   | #####1     |  52% \n",
      "conda-4.11.0         | 16.9 MB   | #####1     |  52% \n",
      "conda-4.11.0         | 16.9 MB   | #####2     |  52% \n",
      "conda-4.11.0         | 16.9 MB   | #####2     |  53% \n",
      "conda-4.11.0         | 16.9 MB   | #####3     |  53% \n",
      "conda-4.11.0         | 16.9 MB   | #####3     |  54% \n",
      "conda-4.11.0         | 16.9 MB   | #####3     |  54% \n",
      "conda-4.11.0         | 16.9 MB   | #####4     |  54% \n",
      "conda-4.11.0         | 16.9 MB   | #####4     |  55% \n",
      "conda-4.11.0         | 16.9 MB   | #####5     |  55% \n",
      "conda-4.11.0         | 16.9 MB   | #####5     |  55% \n",
      "conda-4.11.0         | 16.9 MB   | #####6     |  56% \n",
      "conda-4.11.0         | 16.9 MB   | #####6     |  56% \n",
      "conda-4.11.0         | 16.9 MB   | #####7     |  57% \n",
      "conda-4.11.0         | 16.9 MB   | #####7     |  58% \n",
      "conda-4.11.0         | 16.9 MB   | #####8     |  58% \n",
      "conda-4.11.0         | 16.9 MB   | #####8     |  59% \n",
      "conda-4.11.0         | 16.9 MB   | #####8     |  59% \n",
      "conda-4.11.0         | 16.9 MB   | #####9     |  59% \n",
      "conda-4.11.0         | 16.9 MB   | ######     |  60% \n",
      "conda-4.11.0         | 16.9 MB   | ######     |  60% \n",
      "conda-4.11.0         | 16.9 MB   | ######     |  61% \n",
      "conda-4.11.0         | 16.9 MB   | ######1    |  61% \n",
      "conda-4.11.0         | 16.9 MB   | ######1    |  62% \n",
      "conda-4.11.0         | 16.9 MB   | ######2    |  62% \n",
      "conda-4.11.0         | 16.9 MB   | ######2    |  63% \n",
      "conda-4.11.0         | 16.9 MB   | ######3    |  63% \n",
      "conda-4.11.0         | 16.9 MB   | ######3    |  64% \n",
      "conda-4.11.0         | 16.9 MB   | ######4    |  64% \n",
      "conda-4.11.0         | 16.9 MB   | ######4    |  65% \n",
      "conda-4.11.0         | 16.9 MB   | ######5    |  65% \n",
      "conda-4.11.0         | 16.9 MB   | ######5    |  66% \n",
      "conda-4.11.0         | 16.9 MB   | ######6    |  66% \n",
      "conda-4.11.0         | 16.9 MB   | ######6    |  67% \n",
      "conda-4.11.0         | 16.9 MB   | ######7    |  67% \n",
      "conda-4.11.0         | 16.9 MB   | ######7    |  68% \n",
      "conda-4.11.0         | 16.9 MB   | ######7    |  68% \n",
      "conda-4.11.0         | 16.9 MB   | ######8    |  68% \n",
      "conda-4.11.0         | 16.9 MB   | ######8    |  69% \n",
      "conda-4.11.0         | 16.9 MB   | ######9    |  69% \n",
      "conda-4.11.0         | 16.9 MB   | ######9    |  70% \n",
      "conda-4.11.0         | 16.9 MB   | #######    |  70% \n",
      "conda-4.11.0         | 16.9 MB   | #######    |  70% \n",
      "conda-4.11.0         | 16.9 MB   | #######    |  71% \n",
      "conda-4.11.0         | 16.9 MB   | #######1   |  71% \n",
      "conda-4.11.0         | 16.9 MB   | #######1   |  72% \n",
      "conda-4.11.0         | 16.9 MB   | #######2   |  72% \n",
      "conda-4.11.0         | 16.9 MB   | #######2   |  73% \n",
      "conda-4.11.0         | 16.9 MB   | #######2   |  73% \n",
      "conda-4.11.0         | 16.9 MB   | #######3   |  73% \n",
      "conda-4.11.0         | 16.9 MB   | #######3   |  74% \n",
      "conda-4.11.0         | 16.9 MB   | #######4   |  74% \n",
      "conda-4.11.0         | 16.9 MB   | #######4   |  75% \n",
      "conda-4.11.0         | 16.9 MB   | #######4   |  75% \n",
      "conda-4.11.0         | 16.9 MB   | #######5   |  75% \n",
      "conda-4.11.0         | 16.9 MB   | #######5   |  76% \n",
      "conda-4.11.0         | 16.9 MB   | #######6   |  76% \n",
      "conda-4.11.0         | 16.9 MB   | #######6   |  77% \n",
      "conda-4.11.0         | 16.9 MB   | #######7   |  77% \n",
      "conda-4.11.0         | 16.9 MB   | #######7   |  78% \n",
      "conda-4.11.0         | 16.9 MB   | #######7   |  78% \n",
      "conda-4.11.0         | 16.9 MB   | #######8   |  78% \n",
      "conda-4.11.0         | 16.9 MB   | #######8   |  79% \n",
      "conda-4.11.0         | 16.9 MB   | #######9   |  79% \n",
      "conda-4.11.0         | 16.9 MB   | #######9   |  80% \n",
      "conda-4.11.0         | 16.9 MB   | ########   |  80% \n",
      "conda-4.11.0         | 16.9 MB   | ########   |  81% \n",
      "conda-4.11.0         | 16.9 MB   | ########1  |  81% \n",
      "conda-4.11.0         | 16.9 MB   | ########1  |  81% \n",
      "conda-4.11.0         | 16.9 MB   | ########1  |  82% \n",
      "conda-4.11.0         | 16.9 MB   | ########2  |  82% \n",
      "conda-4.11.0         | 16.9 MB   | ########2  |  83% \n",
      "conda-4.11.0         | 16.9 MB   | ########3  |  83% \n",
      "conda-4.11.0         | 16.9 MB   | ########3  |  84% \n",
      "conda-4.11.0         | 16.9 MB   | ########4  |  84% \n",
      "conda-4.11.0         | 16.9 MB   | ########4  |  84% \n",
      "conda-4.11.0         | 16.9 MB   | ########4  |  85% \n",
      "conda-4.11.0         | 16.9 MB   | ########5  |  85% \n",
      "conda-4.11.0         | 16.9 MB   | ########5  |  86% \n",
      "conda-4.11.0         | 16.9 MB   | ########6  |  86% \n",
      "conda-4.11.0         | 16.9 MB   | ########6  |  87% \n",
      "conda-4.11.0         | 16.9 MB   | ########7  |  87% \n",
      "conda-4.11.0         | 16.9 MB   | ########7  |  87% \n",
      "conda-4.11.0         | 16.9 MB   | ########7  |  88% \n",
      "conda-4.11.0         | 16.9 MB   | ########8  |  88% \n",
      "conda-4.11.0         | 16.9 MB   | ########8  |  89% \n",
      "conda-4.11.0         | 16.9 MB   | ########8  |  89% \n",
      "conda-4.11.0         | 16.9 MB   | ########9  |  89% \n",
      "conda-4.11.0         | 16.9 MB   | ########9  |  90% \n",
      "conda-4.11.0         | 16.9 MB   | #########  |  90% \n",
      "conda-4.11.0         | 16.9 MB   | #########  |  91% \n",
      "conda-4.11.0         | 16.9 MB   | #########  |  91% \n",
      "conda-4.11.0         | 16.9 MB   | #########1 |  91% \n",
      "conda-4.11.0         | 16.9 MB   | #########1 |  92% \n",
      "conda-4.11.0         | 16.9 MB   | #########2 |  92% \n",
      "conda-4.11.0         | 16.9 MB   | #########2 |  93% \n",
      "conda-4.11.0         | 16.9 MB   | #########2 |  93% \n",
      "conda-4.11.0         | 16.9 MB   | #########3 |  93% \n",
      "conda-4.11.0         | 16.9 MB   | #########3 |  94% \n",
      "conda-4.11.0         | 16.9 MB   | #########3 |  94% \n",
      "conda-4.11.0         | 16.9 MB   | #########4 |  94% \n",
      "conda-4.11.0         | 16.9 MB   | #########4 |  95% \n",
      "conda-4.11.0         | 16.9 MB   | #########5 |  95% \n",
      "conda-4.11.0         | 16.9 MB   | #########5 |  96% \n",
      "conda-4.11.0         | 16.9 MB   | #########6 |  96% \n",
      "conda-4.11.0         | 16.9 MB   | #########6 |  96% \n",
      "conda-4.11.0         | 16.9 MB   | #########6 |  97% \n",
      "conda-4.11.0         | 16.9 MB   | #########7 |  97% \n",
      "conda-4.11.0         | 16.9 MB   | #########7 |  97% \n",
      "conda-4.11.0         | 16.9 MB   | #########7 |  98% \n",
      "conda-4.11.0         | 16.9 MB   | #########7 |  98% \n",
      "conda-4.11.0         | 16.9 MB   | #########8 |  98% \n",
      "conda-4.11.0         | 16.9 MB   | #########8 |  99% \n",
      "conda-4.11.0         | 16.9 MB   | #########9 |  99% \n",
      "conda-4.11.0         | 16.9 MB   | #########9 | 100% \n",
      "conda-4.11.0         | 16.9 MB   | ########## | 100% \n",
      "Preparing transaction: ...working... done\n",
      "Verifying transaction: ...working... done\n",
      "Executing transaction: ...working... done\n"
     ]
    },
    {
     "name": "stdout",
     "output_type": "stream",
     "text": [
      "Collecting package metadata (current_repodata.json): ...working... done\n",
      "Solving environment: ...working... done\n",
      "\n",
      "## Package Plan ##\n",
      "\n",
      "  environment location: C:\\Users\\suadk\\anaconda3\n",
      "\n",
      "  added / updated specs:\n",
      "    - python-graphviz\n",
      "\n",
      "\n",
      "The following packages will be downloaded:\n",
      "\n",
      "    package                    |            build\n",
      "    ---------------------------|-----------------\n",
      "    python-graphviz-0.16       |     pyhd3deb0d_1          20 KB  conda-forge\n",
      "    ------------------------------------------------------------\n",
      "                                           Total:          20 KB\n",
      "\n",
      "The following NEW packages will be INSTALLED:\n",
      "\n",
      "  python-graphviz    conda-forge/noarch::python-graphviz-0.16-pyhd3deb0d_1\n",
      "\n",
      "\n",
      "\n",
      "Downloading and Extracting Packages\n",
      "\n",
      "python-graphviz-0.16 | 20 KB     |            |   0% \n",
      "python-graphviz-0.16 | 20 KB     | #######9   |  80% \n",
      "python-graphviz-0.16 | 20 KB     | ########## | 100% \n",
      "Preparing transaction: ...working... done\n",
      "Verifying transaction: ...working... done\n",
      "Executing transaction: ...working... done\n"
     ]
    }
   ],
   "source": [
    "#Visualization\n",
    "\n",
    "# Notice: You might need to uncomment and install the pydotplus and graphviz libraries if you have not installed these before.\n",
    "!conda install -c conda-forge pydotplus -y\n",
    "!conda install -c conda-forge python-graphviz -y"
   ]
  },
  {
   "cell_type": "code",
   "execution_count": 33,
   "metadata": {},
   "outputs": [
    {
     "data": {
      "text/plain": [
       "<matplotlib.image.AxesImage at 0x1e6266af790>"
      ]
     },
     "execution_count": 33,
     "metadata": {},
     "output_type": "execute_result"
    },
    {
     "data": {
      "image/png": "[encoded data removed]",
      "text/plain": [
       "<Figure size 7200x14400 with 1 Axes>"
      ]
     },
     "metadata": {
      "needs_background": "light"
     },
     "output_type": "display_data"
    }
   ],
   "source": [
    "from six import StringIO\n",
    "import pydotplus\n",
    "import matplotlib.image as mpimg\n",
    "from sklearn import tree\n",
    "\n",
    "%matplotlib inline \n",
    "dot_data = StringIO()\n",
    "filename = \"loan.png\"\n",
    "featureNames = df.columns[0:8]\n",
    "targetNames = df['loan_status'].unique().tolist()\n",
    "out=tree.export_graphviz(LoanTree, feature_names=featureNames, out_file=dot_data, class_names= np.unique(y_trainset), filled=True, special_characters=True, rotate=False)  \n",
    "graph = pydotplus.graph_from_dot_data(dot_data.getvalue())  \n",
    "graph.write_png(filename)\n",
    "img = mpimg.imread(filename)\n",
    "plt.figure(figsize=(100, 200))\n",
    "plt.imshow(img,interpolation='nearest')"
   ]
  },
  {
   "cell_type": "markdown",
   "metadata": {},
   "source": [
    "# Support Vector Machine\n"
   ]
  },
  {
   "cell_type": "code",
   "execution_count": 34,
   "metadata": {},
   "outputs": [
    {
     "data": {
      "text/plain": [
       "array([[ 0.51578458,  0.92071769,  2.33152555, -0.42056004, -1.20577805,\n",
       "        -0.38170062,  1.13639374, -0.86968108],\n",
       "       [ 0.51578458,  0.92071769,  0.34170148,  2.37778177, -1.20577805,\n",
       "         2.61985426, -0.87997669, -0.86968108],\n",
       "       [ 0.51578458, -0.95911111, -0.65321055, -0.42056004, -1.20577805,\n",
       "        -0.38170062, -0.87997669,  1.14984679],\n",
       "       [ 0.51578458,  0.92071769, -0.48739188,  2.37778177,  0.82934003,\n",
       "        -0.38170062, -0.87997669,  1.14984679],\n",
       "       [ 0.51578458,  0.92071769, -0.3215732 , -0.42056004,  0.82934003,\n",
       "        -0.38170062, -0.87997669,  1.14984679]])"
      ]
     },
     "execution_count": 34,
     "metadata": {},
     "output_type": "execute_result"
    }
   ],
   "source": [
    "#Data pre-processing and selection.\n",
    "\n",
    "#lets use the same previous dataframes transformed with one hot encoding technique. \n",
    "X[0:5]"
   ]
  },
  {
   "cell_type": "code",
   "execution_count": 35,
   "metadata": {},
   "outputs": [
    {
     "data": {
      "text/plain": [
       "array(['PAIDOFF', 'PAIDOFF', 'PAIDOFF', 'PAIDOFF', 'PAIDOFF'],\n",
       "      dtype=object)"
      ]
     },
     "execution_count": 35,
     "metadata": {},
     "output_type": "execute_result"
    }
   ],
   "source": [
    "#View the label: loan_status\n",
    "y[0:5]"
   ]
  },
  {
   "cell_type": "code",
   "execution_count": 36,
   "metadata": {},
   "outputs": [
    {
     "data": {
      "text/plain": [
       "array([[ 0.51578458,  0.92071769,  2.33152555, -0.42056004, -1.20577805,\n",
       "        -0.38170062,  1.13639374, -0.86968108],\n",
       "       [ 0.51578458,  0.92071769,  0.34170148,  2.37778177, -1.20577805,\n",
       "         2.61985426, -0.87997669, -0.86968108],\n",
       "       [ 0.51578458, -0.95911111, -0.65321055, -0.42056004, -1.20577805,\n",
       "        -0.38170062, -0.87997669,  1.14984679],\n",
       "       [ 0.51578458,  0.92071769, -0.48739188,  2.37778177,  0.82934003,\n",
       "        -0.38170062, -0.87997669,  1.14984679],\n",
       "       [ 0.51578458,  0.92071769, -0.3215732 , -0.42056004,  0.82934003,\n",
       "        -0.38170062, -0.87997669,  1.14984679]])"
      ]
     },
     "execution_count": 36,
     "metadata": {},
     "output_type": "execute_result"
    }
   ],
   "source": [
    "#Again, lets do the data normalization process.\n",
    "X= preprocessing.StandardScaler().fit(X).transform(X)\n",
    "X[0:5]"
   ]
  },
  {
   "cell_type": "code",
   "execution_count": 37,
   "metadata": {},
   "outputs": [
    {
     "name": "stdout",
     "output_type": "stream",
     "text": [
      "Train set: (276, 8) (276,)\n",
      "Test set: (70, 8) (70,)\n"
     ]
    }
   ],
   "source": [
    "#Train/Test dataset: Again, we split our dataset into train and test set.\n",
    "from sklearn.model_selection import train_test_split\n",
    "X_train, X_test, y_train, y_test = train_test_split( X, y, test_size=0.2, random_state=4)\n",
    "print ('Train set:', X_train.shape,  y_train.shape)\n",
    "print ('Test set:', X_test.shape,  y_test.shape)"
   ]
  },
  {
   "cell_type": "code",
   "execution_count": 38,
   "metadata": {},
   "outputs": [
    {
     "data": {
      "text/plain": [
       "SVC()"
      ]
     },
     "execution_count": 38,
     "metadata": {},
     "output_type": "execute_result"
    }
   ],
   "source": [
    "#Modeling (SVM with Scikit-learn)\n",
    "#The SVM algorithm offers a choice of kernel functions for performing its processing. Basically, mapping data into a higher dimensional space is called kernelling.\n",
    "#The mathematical function used for the transformation is known as the kernel function, and can be of different types, such as:\n",
    "\n",
    "# 1.Linear\n",
    "# 2.Polynomial\n",
    "# 3.Radial basis function (RBF)\n",
    "# 4.Sigmoid\n",
    "\n",
    "#Lets use the 'rbf' kernel function and fit our model with training data.\n",
    "from sklearn import svm\n",
    "svm_object = svm.SVC(kernel='rbf')\n",
    "svm_object.fit(X_train, y_train) "
   ]
  },
  {
   "cell_type": "code",
   "execution_count": 39,
   "metadata": {},
   "outputs": [
    {
     "data": {
      "text/plain": [
       "array(['COLLECTION', 'PAIDOFF', 'PAIDOFF', 'PAIDOFF', 'PAIDOFF'],\n",
       "      dtype=object)"
      ]
     },
     "execution_count": 39,
     "metadata": {},
     "output_type": "execute_result"
    }
   ],
   "source": [
    "#Predicting....\n",
    "#After being fitted, the model can then be used to predict new values.\n",
    "#To do that we'll use the test data previously split.\n",
    "yhat = svm_object.predict(X_test)\n",
    "yhat [0:5]"
   ]
  },
  {
   "cell_type": "code",
   "execution_count": 42,
   "metadata": {},
   "outputs": [],
   "source": [
    "#Evaluation\n",
    "\n",
    "from sklearn.metrics import classification_report, confusion_matrix\n",
    "import itertools\n",
    "\n",
    "#Function to plot the confusion matrix\n",
    "def plot_confusion_matrix(cm, classes,\n",
    "                          normalize=False,\n",
    "                          title='Confusion matrix',\n",
    "                          cmap=plt.cm.Blues):\n",
    "\n",
    "    if normalize:\n",
    "        cm = cm.astype('float') / cm.sum(axis=1)[:, np.newaxis]\n",
    "\n",
    "    plt.imshow(cm, interpolation='nearest', cmap=cmap)\n",
    "    plt.title(title)\n",
    "    plt.colorbar()\n",
    "    tick_marks = np.arange(len(classes))\n",
    "    plt.xticks(tick_marks, classes, rotation=45)\n",
    "    plt.yticks(tick_marks, classes)\n",
    "\n",
    "    fmt = '.2f' if normalize else 'd'\n",
    "    thresh = cm.max() / 2.\n",
    "    for i, j in itertools.product(range(cm.shape[0]), range(cm.shape[1])):\n",
    "        plt.text(j, i, format(cm[i, j], fmt),\n",
    "                 horizontalalignment=\"center\",\n",
    "                 color=\"white\" if cm[i, j] > thresh else \"black\")\n",
    "\n",
    "    plt.tight_layout()\n",
    "    plt.ylabel('True label')\n",
    "    plt.xlabel('Predicted label')"
   ]
  },
  {
   "cell_type": "code",
   "execution_count": 43,
   "metadata": {},
   "outputs": [
    {
     "name": "stdout",
     "output_type": "stream",
     "text": [
      "              precision    recall  f1-score   support\n",
      "\n",
      "  COLLECTION       0.36      0.27      0.31        15\n",
      "     PAIDOFF       0.81      0.87      0.84        55\n",
      "\n",
      "    accuracy                           0.74        70\n",
      "   macro avg       0.59      0.57      0.57        70\n",
      "weighted avg       0.72      0.74      0.73        70\n",
      "\n"
     ]
    },
    {
     "data": {
      "image/png": "[encoded data removed]",
      "text/plain": [
       "<Figure size 432x288 with 2 Axes>"
      ]
     },
     "metadata": {
      "needs_background": "light"
     },
     "output_type": "display_data"
    }
   ],
   "source": [
    "# Compute confusion matrix\n",
    "cnf_matrix = confusion_matrix(y_test, yhat, labels=['PAIDOFF','COLLECTION'])\n",
    "np.set_printoptions(precision=2)\n",
    "\n",
    "print (classification_report(y_test, yhat))\n",
    "\n",
    "# Plot non-normalized confusion matrix\n",
    "plt.figure()\n",
    "plot_confusion_matrix(cnf_matrix, classes=['PAIDOFF','COLLECTION'],normalize= False,  title='Confusion matrix')"
   ]
  },
  {
   "cell_type": "markdown",
   "metadata": {},
   "source": [
    "# Logistic Regression\n"
   ]
  },
  {
   "cell_type": "code",
   "execution_count": 44,
   "metadata": {},
   "outputs": [],
   "source": [
    "#import some libraries\n",
    "import scipy.optimize as opt\n",
    "from sklearn import preprocessing"
   ]
  },
  {
   "cell_type": "code",
   "execution_count": 45,
   "metadata": {},
   "outputs": [
    {
     "data": {
      "text/plain": [
       "array([[ 0.52,  0.92,  2.33, -0.42, -1.21, -0.38,  1.14, -0.87],\n",
       "       [ 0.52,  0.92,  0.34,  2.38, -1.21,  2.62, -0.88, -0.87],\n",
       "       [ 0.52, -0.96, -0.65, -0.42, -1.21, -0.38, -0.88,  1.15],\n",
       "       [ 0.52,  0.92, -0.49,  2.38,  0.83, -0.38, -0.88,  1.15],\n",
       "       [ 0.52,  0.92, -0.32, -0.42,  0.83, -0.38, -0.88,  1.15]])"
      ]
     },
     "execution_count": 45,
     "metadata": {},
     "output_type": "execute_result"
    }
   ],
   "source": [
    "#Data pre-processing and selection\n",
    "#df = df[['loan_status', 'Principal', 'terms', 'effective_date', 'due_date', 'age', 'education', 'Gender']]\n",
    "#df['loan_status'] = df['loan_status'].astype('int')\n",
    "\n",
    "#Again, lets do the data normalization process with the same previous dataframe\n",
    "X= preprocessing.StandardScaler().fit(X).transform(X)\n",
    "X[0:5] "
   ]
  },
  {
   "cell_type": "code",
   "execution_count": 46,
   "metadata": {},
   "outputs": [
    {
     "name": "stdout",
     "output_type": "stream",
     "text": [
      "Train set: (276, 8) (276,)\n",
      "Test set: (70, 8) (70,)\n"
     ]
    }
   ],
   "source": [
    "#Train/Test dataset\n",
    "from sklearn.model_selection import train_test_split\n",
    "X_train, X_test, y_train, y_test = train_test_split( X, y, test_size=0.2, random_state=4)\n",
    "print ('Train set:', X_train.shape,  y_train.shape)\n",
    "print ('Test set:', X_test.shape,  y_test.shape)"
   ]
  },
  {
   "cell_type": "code",
   "execution_count": 47,
   "metadata": {},
   "outputs": [
    {
     "data": {
      "text/plain": [
       "LogisticRegression(C=0.01, solver='liblinear')"
      ]
     },
     "execution_count": 47,
     "metadata": {},
     "output_type": "execute_result"
    }
   ],
   "source": [
    "#Modeling Logistic Regression\n",
    "from sklearn.linear_model import LogisticRegression\n",
    "from sklearn.metrics import confusion_matrix\n",
    "LogReg = LogisticRegression(C=0.01, solver='liblinear').fit(X_train,y_train)\n",
    "LogReg"
   ]
  },
  {
   "cell_type": "code",
   "execution_count": 48,
   "metadata": {},
   "outputs": [
    {
     "data": {
      "text/plain": [
       "array(['COLLECTION', 'PAIDOFF', 'PAIDOFF', 'PAIDOFF', 'PAIDOFF',\n",
       "       'PAIDOFF', 'PAIDOFF', 'PAIDOFF', 'PAIDOFF', 'PAIDOFF', 'PAIDOFF',\n",
       "       'PAIDOFF', 'PAIDOFF', 'PAIDOFF', 'PAIDOFF', 'PAIDOFF',\n",
       "       'COLLECTION', 'PAIDOFF', 'COLLECTION', 'PAIDOFF', 'PAIDOFF',\n",
       "       'PAIDOFF', 'COLLECTION', 'PAIDOFF', 'PAIDOFF', 'COLLECTION',\n",
       "       'COLLECTION', 'PAIDOFF', 'COLLECTION', 'PAIDOFF', 'PAIDOFF',\n",
       "       'PAIDOFF', 'PAIDOFF', 'PAIDOFF', 'PAIDOFF', 'PAIDOFF',\n",
       "       'COLLECTION', 'PAIDOFF', 'PAIDOFF', 'PAIDOFF', 'COLLECTION',\n",
       "       'PAIDOFF', 'PAIDOFF', 'COLLECTION', 'PAIDOFF', 'PAIDOFF',\n",
       "       'PAIDOFF', 'PAIDOFF', 'PAIDOFF', 'PAIDOFF', 'PAIDOFF', 'PAIDOFF',\n",
       "       'PAIDOFF', 'PAIDOFF', 'PAIDOFF', 'PAIDOFF', 'PAIDOFF', 'PAIDOFF',\n",
       "       'PAIDOFF', 'PAIDOFF', 'PAIDOFF', 'PAIDOFF', 'PAIDOFF',\n",
       "       'COLLECTION', 'PAIDOFF', 'PAIDOFF', 'PAIDOFF', 'PAIDOFF',\n",
       "       'PAIDOFF', 'PAIDOFF'], dtype=object)"
      ]
     },
     "execution_count": 48,
     "metadata": {},
     "output_type": "execute_result"
    }
   ],
   "source": [
    "#predict using our test set:\n",
    "yhat = LogReg.predict(X_test)\n",
    "yhat"
   ]
  },
  {
   "cell_type": "code",
   "execution_count": 49,
   "metadata": {},
   "outputs": [
    {
     "data": {
      "text/plain": [
       "array([[0.5 , 0.5 ],\n",
       "       [0.45, 0.55],\n",
       "       [0.31, 0.69],\n",
       "       [0.34, 0.66],\n",
       "       [0.32, 0.68],\n",
       "       [0.32, 0.68],\n",
       "       [0.49, 0.51],\n",
       "       [0.48, 0.52],\n",
       "       [0.34, 0.66],\n",
       "       [0.49, 0.51],\n",
       "       [0.34, 0.66],\n",
       "       [0.5 , 0.5 ],\n",
       "       [0.25, 0.75],\n",
       "       [0.34, 0.66],\n",
       "       [0.44, 0.56],\n",
       "       [0.26, 0.74],\n",
       "       [0.52, 0.48],\n",
       "       [0.3 , 0.7 ],\n",
       "       [0.5 , 0.5 ],\n",
       "       [0.32, 0.68],\n",
       "       [0.44, 0.56],\n",
       "       [0.49, 0.51],\n",
       "       [0.51, 0.49],\n",
       "       [0.47, 0.53],\n",
       "       [0.41, 0.59],\n",
       "       [0.51, 0.49],\n",
       "       [0.51, 0.49],\n",
       "       [0.37, 0.63],\n",
       "       [0.5 , 0.5 ],\n",
       "       [0.25, 0.75],\n",
       "       [0.47, 0.53],\n",
       "       [0.46, 0.54],\n",
       "       [0.46, 0.54],\n",
       "       [0.48, 0.52],\n",
       "       [0.39, 0.61],\n",
       "       [0.46, 0.54],\n",
       "       [0.5 , 0.5 ],\n",
       "       [0.29, 0.71],\n",
       "       [0.46, 0.54],\n",
       "       [0.45, 0.55],\n",
       "       [0.51, 0.49],\n",
       "       [0.32, 0.68],\n",
       "       [0.45, 0.55],\n",
       "       [0.51, 0.49],\n",
       "       [0.31, 0.69],\n",
       "       [0.5 , 0.5 ],\n",
       "       [0.47, 0.53],\n",
       "       [0.5 , 0.5 ],\n",
       "       [0.46, 0.54],\n",
       "       [0.46, 0.54],\n",
       "       [0.28, 0.72],\n",
       "       [0.47, 0.53],\n",
       "       [0.31, 0.69],\n",
       "       [0.49, 0.51],\n",
       "       [0.28, 0.72],\n",
       "       [0.25, 0.75],\n",
       "       [0.32, 0.68],\n",
       "       [0.43, 0.57],\n",
       "       [0.47, 0.53],\n",
       "       [0.34, 0.66],\n",
       "       [0.42, 0.58],\n",
       "       [0.33, 0.67],\n",
       "       [0.46, 0.54],\n",
       "       [0.53, 0.47],\n",
       "       [0.32, 0.68],\n",
       "       [0.49, 0.51],\n",
       "       [0.33, 0.67],\n",
       "       [0.42, 0.58],\n",
       "       [0.45, 0.55],\n",
       "       [0.32, 0.68]])"
      ]
     },
     "execution_count": 49,
     "metadata": {},
     "output_type": "execute_result"
    }
   ],
   "source": [
    "#predict_proba returns estimates for all classes, ordered by the label of classes. So, the first column is the probability of class 1, P(Y=1|X), and second column is probability of class 0, P(Y=0|X)\n",
    "#Is the probability that one register belongs to one or another class. Example: [0.54132919, 0.45867081] In this case is more likely that the register belongs to the first class [0.54....] = 1 (LOAN PAIDOFF)\n",
    "yhat_prob = LogReg.predict_proba(X_test)\n",
    "yhat_prob"
   ]
  },
  {
   "cell_type": "code",
   "execution_count": 50,
   "metadata": {},
   "outputs": [
    {
     "name": "stdout",
     "output_type": "stream",
     "text": [
      "              precision    recall  f1-score   support\n",
      "\n",
      "  COLLECTION       0.18      0.13      0.15        15\n",
      "     PAIDOFF       0.78      0.84      0.81        55\n",
      "\n",
      "    accuracy                           0.69        70\n",
      "   macro avg       0.48      0.48      0.48        70\n",
      "weighted avg       0.65      0.69      0.67        70\n",
      "\n"
     ]
    },
    {
     "data": {
      "image/png": "[encoded data removed]",
      "text/plain": [
       "<Figure size 432x288 with 2 Axes>"
      ]
     },
     "metadata": {
      "needs_background": "light"
     },
     "output_type": "display_data"
    }
   ],
   "source": [
    "#Evaluation with the confusion matrix:\n",
    "cnf_matrix = confusion_matrix(y_test, yhat, labels=['PAIDOFF','COLLECTION'])\n",
    "np.set_printoptions(precision=2)\n",
    "\n",
    "print (classification_report(y_test, yhat))\n",
    "\n",
    "# Plot non-normalized confusion matrix\n",
    "plt.figure()\n",
    "plot_confusion_matrix(cnf_matrix, classes=['PAIDOFF','COLLECTION'],normalize= False,  title='Confusion matrix')"
   ]
  },
  {
   "cell_type": "code",
   "execution_count": 51,
   "metadata": {},
   "outputs": [
    {
     "data": {
      "text/plain": [
       "0.5772287609479654"
      ]
     },
     "execution_count": 51,
     "metadata": {},
     "output_type": "execute_result"
    }
   ],
   "source": [
    "#Evaluation log loss\n",
    "#In logistic regression, the probability of customer loan default could be yes (or equals to 1). This probability is a value between 0 and 1. (COLLECTION = 1), (COLLECTION = 0)\n",
    "#Log loss( Logarithmic loss) measures the performance of a classifier where the predicted output is a probability value between 0 and 1.\n",
    "\n",
    "from sklearn.metrics import log_loss\n",
    "log_loss(y_test, yhat_prob)"
   ]
  },
  {
   "cell_type": "markdown",
   "metadata": {},
   "source": [
    "# Model Evaluation using Test set\n"
   ]
  },
  {
   "cell_type": "code",
   "execution_count": 52,
   "metadata": {},
   "outputs": [],
   "source": [
    "from sklearn.metrics import jaccard_score\n",
    "from sklearn.metrics import f1_score\n",
    "from sklearn.metrics import log_loss\n"
   ]
  },
  {
   "cell_type": "markdown",
   "metadata": {},
   "source": [
    "First, download and load the test set:\n"
   ]
  },
  {
   "cell_type": "code",
   "execution_count": 55,
   "metadata": {},
   "outputs": [
    {
     "name": "stderr",
     "output_type": "stream",
     "text": [
      "--2021-11-29 16:19:31--  https://s3-api.us-geo.objectstorage.softlayer.net/cf-courses-data/CognitiveClass/ML0101ENv3/labs/loan_test.csv\n",
      "Resolving s3-api.us-geo.objectstorage.softlayer.net (s3-api.us-geo.objectstorage.softlayer.net)... 67.228.254.196\n",
      "Connecting to s3-api.us-geo.objectstorage.softlayer.net (s3-api.us-geo.objectstorage.softlayer.net)|67.228.254.196|:443... connected.\n",
      "HTTP request sent, awaiting response... 200 OK\n",
      "Length: 3642 (3,6K) [text/csv]\n",
      "Saving to: 'loan_test.csv'\n",
      "\n",
      "     0K ...                                                   100% 1,26G=0s\n",
      "\n",
      "2021-11-29 16:19:38 (1,26 GB/s) - 'loan_test.csv' saved [3642/3642]\n",
      "\n"
     ]
    }
   ],
   "source": [
    "!wget -O loan_test.csv https://s3-api.us-geo.objectstorage.softlayer.net/cf-courses-data/CognitiveClass/ML0101ENv3/labs/loan_test.csv"
   ]
  },
  {
   "cell_type": "markdown",
   "metadata": {
    "button": false,
    "new_sheet": false,
    "run_control": {
     "read_only": false
    }
   },
   "source": [
    "### Load Test set for evaluation\n"
   ]
  },
  {
   "cell_type": "code",
   "execution_count": 56,
   "metadata": {
    "button": false,
    "new_sheet": false,
    "run_control": {
     "read_only": false
    }
   },
   "outputs": [
    {
     "data": {
      "text/html": [
       "<div>\n",
       "<style scoped>\n",
       "    .dataframe tbody tr th:only-of-type {\n",
       "        vertical-align: middle;\n",
       "    }\n",
       "\n",
       "    .dataframe tbody tr th {\n",
       "        vertical-align: top;\n",
       "    }\n",
       "\n",
       "    .dataframe thead th {\n",
       "        text-align: right;\n",
       "    }\n",
       "</style>\n",
       "<table border=\"1\" class=\"dataframe\">\n",
       "  <thead>\n",
       "    <tr style=\"text-align: right;\">\n",
       "      <th></th>\n",
       "      <th>Unnamed: 0</th>\n",
       "      <th>Unnamed: 0.1</th>\n",
       "      <th>loan_status</th>\n",
       "      <th>Principal</th>\n",
       "      <th>terms</th>\n",
       "      <th>effective_date</th>\n",
       "      <th>due_date</th>\n",
       "      <th>age</th>\n",
       "      <th>education</th>\n",
       "      <th>Gender</th>\n",
       "    </tr>\n",
       "  </thead>\n",
       "  <tbody>\n",
       "    <tr>\n",
       "      <th>0</th>\n",
       "      <td>1</td>\n",
       "      <td>1</td>\n",
       "      <td>PAIDOFF</td>\n",
       "      <td>1000</td>\n",
       "      <td>30</td>\n",
       "      <td>9/8/2016</td>\n",
       "      <td>10/7/2016</td>\n",
       "      <td>50</td>\n",
       "      <td>Bechalor</td>\n",
       "      <td>female</td>\n",
       "    </tr>\n",
       "    <tr>\n",
       "      <th>1</th>\n",
       "      <td>5</td>\n",
       "      <td>5</td>\n",
       "      <td>PAIDOFF</td>\n",
       "      <td>300</td>\n",
       "      <td>7</td>\n",
       "      <td>9/9/2016</td>\n",
       "      <td>9/15/2016</td>\n",
       "      <td>35</td>\n",
       "      <td>Master or Above</td>\n",
       "      <td>male</td>\n",
       "    </tr>\n",
       "    <tr>\n",
       "      <th>2</th>\n",
       "      <td>21</td>\n",
       "      <td>21</td>\n",
       "      <td>PAIDOFF</td>\n",
       "      <td>1000</td>\n",
       "      <td>30</td>\n",
       "      <td>9/10/2016</td>\n",
       "      <td>10/9/2016</td>\n",
       "      <td>43</td>\n",
       "      <td>High School or Below</td>\n",
       "      <td>female</td>\n",
       "    </tr>\n",
       "    <tr>\n",
       "      <th>3</th>\n",
       "      <td>24</td>\n",
       "      <td>24</td>\n",
       "      <td>PAIDOFF</td>\n",
       "      <td>1000</td>\n",
       "      <td>30</td>\n",
       "      <td>9/10/2016</td>\n",
       "      <td>10/9/2016</td>\n",
       "      <td>26</td>\n",
       "      <td>college</td>\n",
       "      <td>male</td>\n",
       "    </tr>\n",
       "    <tr>\n",
       "      <th>4</th>\n",
       "      <td>35</td>\n",
       "      <td>35</td>\n",
       "      <td>PAIDOFF</td>\n",
       "      <td>800</td>\n",
       "      <td>15</td>\n",
       "      <td>9/11/2016</td>\n",
       "      <td>9/25/2016</td>\n",
       "      <td>29</td>\n",
       "      <td>Bechalor</td>\n",
       "      <td>male</td>\n",
       "    </tr>\n",
       "  </tbody>\n",
       "</table>\n",
       "</div>"
      ],
      "text/plain": [
       "   Unnamed: 0  Unnamed: 0.1 loan_status  Principal  terms effective_date  \\\n",
       "0           1             1     PAIDOFF       1000     30       9/8/2016   \n",
       "1           5             5     PAIDOFF        300      7       9/9/2016   \n",
       "2          21            21     PAIDOFF       1000     30      9/10/2016   \n",
       "3          24            24     PAIDOFF       1000     30      9/10/2016   \n",
       "4          35            35     PAIDOFF        800     15      9/11/2016   \n",
       "\n",
       "    due_date  age             education  Gender  \n",
       "0  10/7/2016   50              Bechalor  female  \n",
       "1  9/15/2016   35       Master or Above    male  \n",
       "2  10/9/2016   43  High School or Below  female  \n",
       "3  10/9/2016   26               college    male  \n",
       "4  9/25/2016   29              Bechalor    male  "
      ]
     },
     "execution_count": 56,
     "metadata": {},
     "output_type": "execute_result"
    }
   ],
   "source": [
    "test_df = pd.read_csv('loan_test.csv')\n",
    "test_df.head()"
   ]
  },
  {
   "cell_type": "code",
   "execution_count": 57,
   "metadata": {},
   "outputs": [
    {
     "data": {
      "text/html": [
       "<div>\n",
       "<style scoped>\n",
       "    .dataframe tbody tr th:only-of-type {\n",
       "        vertical-align: middle;\n",
       "    }\n",
       "\n",
       "    .dataframe tbody tr th {\n",
       "        vertical-align: top;\n",
       "    }\n",
       "\n",
       "    .dataframe thead th {\n",
       "        text-align: right;\n",
       "    }\n",
       "</style>\n",
       "<table border=\"1\" class=\"dataframe\">\n",
       "  <thead>\n",
       "    <tr style=\"text-align: right;\">\n",
       "      <th></th>\n",
       "      <th>Unnamed: 0</th>\n",
       "      <th>Unnamed: 0.1</th>\n",
       "      <th>loan_status</th>\n",
       "      <th>Principal</th>\n",
       "      <th>terms</th>\n",
       "      <th>effective_date</th>\n",
       "      <th>due_date</th>\n",
       "      <th>age</th>\n",
       "      <th>education</th>\n",
       "      <th>Gender</th>\n",
       "    </tr>\n",
       "  </thead>\n",
       "  <tbody>\n",
       "    <tr>\n",
       "      <th>0</th>\n",
       "      <td>1</td>\n",
       "      <td>1</td>\n",
       "      <td>PAIDOFF</td>\n",
       "      <td>1000</td>\n",
       "      <td>30</td>\n",
       "      <td>2016-09-08</td>\n",
       "      <td>2016-10-07</td>\n",
       "      <td>50</td>\n",
       "      <td>Bechalor</td>\n",
       "      <td>female</td>\n",
       "    </tr>\n",
       "    <tr>\n",
       "      <th>1</th>\n",
       "      <td>5</td>\n",
       "      <td>5</td>\n",
       "      <td>PAIDOFF</td>\n",
       "      <td>300</td>\n",
       "      <td>7</td>\n",
       "      <td>2016-09-09</td>\n",
       "      <td>2016-09-15</td>\n",
       "      <td>35</td>\n",
       "      <td>Master or Above</td>\n",
       "      <td>male</td>\n",
       "    </tr>\n",
       "    <tr>\n",
       "      <th>2</th>\n",
       "      <td>21</td>\n",
       "      <td>21</td>\n",
       "      <td>PAIDOFF</td>\n",
       "      <td>1000</td>\n",
       "      <td>30</td>\n",
       "      <td>2016-09-10</td>\n",
       "      <td>2016-10-09</td>\n",
       "      <td>43</td>\n",
       "      <td>High School or Below</td>\n",
       "      <td>female</td>\n",
       "    </tr>\n",
       "    <tr>\n",
       "      <th>3</th>\n",
       "      <td>24</td>\n",
       "      <td>24</td>\n",
       "      <td>PAIDOFF</td>\n",
       "      <td>1000</td>\n",
       "      <td>30</td>\n",
       "      <td>2016-09-10</td>\n",
       "      <td>2016-10-09</td>\n",
       "      <td>26</td>\n",
       "      <td>college</td>\n",
       "      <td>male</td>\n",
       "    </tr>\n",
       "    <tr>\n",
       "      <th>4</th>\n",
       "      <td>35</td>\n",
       "      <td>35</td>\n",
       "      <td>PAIDOFF</td>\n",
       "      <td>800</td>\n",
       "      <td>15</td>\n",
       "      <td>2016-09-11</td>\n",
       "      <td>2016-09-25</td>\n",
       "      <td>29</td>\n",
       "      <td>Bechalor</td>\n",
       "      <td>male</td>\n",
       "    </tr>\n",
       "  </tbody>\n",
       "</table>\n",
       "</div>"
      ],
      "text/plain": [
       "   Unnamed: 0  Unnamed: 0.1 loan_status  Principal  terms effective_date  \\\n",
       "0           1             1     PAIDOFF       1000     30     2016-09-08   \n",
       "1           5             5     PAIDOFF        300      7     2016-09-09   \n",
       "2          21            21     PAIDOFF       1000     30     2016-09-10   \n",
       "3          24            24     PAIDOFF       1000     30     2016-09-10   \n",
       "4          35            35     PAIDOFF        800     15     2016-09-11   \n",
       "\n",
       "    due_date  age             education  Gender  \n",
       "0 2016-10-07   50              Bechalor  female  \n",
       "1 2016-09-15   35       Master or Above    male  \n",
       "2 2016-10-09   43  High School or Below  female  \n",
       "3 2016-10-09   26               college    male  \n",
       "4 2016-09-25   29              Bechalor    male  "
      ]
     },
     "execution_count": 57,
     "metadata": {},
     "output_type": "execute_result"
    }
   ],
   "source": [
    "#Convert to date time object \n",
    "test_df['due_date'] = pd.to_datetime(test_df['due_date'])\n",
    "test_df['effective_date'] = pd.to_datetime(test_df['effective_date'])\n",
    "test_df.head()"
   ]
  },
  {
   "cell_type": "code",
   "execution_count": 58,
   "metadata": {},
   "outputs": [
    {
     "data": {
      "text/html": [
       "<div>\n",
       "<style scoped>\n",
       "    .dataframe tbody tr th:only-of-type {\n",
       "        vertical-align: middle;\n",
       "    }\n",
       "\n",
       "    .dataframe tbody tr th {\n",
       "        vertical-align: top;\n",
       "    }\n",
       "\n",
       "    .dataframe thead th {\n",
       "        text-align: right;\n",
       "    }\n",
       "</style>\n",
       "<table border=\"1\" class=\"dataframe\">\n",
       "  <thead>\n",
       "    <tr style=\"text-align: right;\">\n",
       "      <th></th>\n",
       "      <th>Unnamed: 0</th>\n",
       "      <th>Unnamed: 0.1</th>\n",
       "      <th>loan_status</th>\n",
       "      <th>Principal</th>\n",
       "      <th>terms</th>\n",
       "      <th>effective_date</th>\n",
       "      <th>due_date</th>\n",
       "      <th>age</th>\n",
       "      <th>education</th>\n",
       "      <th>Gender</th>\n",
       "      <th>dayofweek</th>\n",
       "      <th>weekend</th>\n",
       "    </tr>\n",
       "  </thead>\n",
       "  <tbody>\n",
       "    <tr>\n",
       "      <th>0</th>\n",
       "      <td>1</td>\n",
       "      <td>1</td>\n",
       "      <td>PAIDOFF</td>\n",
       "      <td>1000</td>\n",
       "      <td>30</td>\n",
       "      <td>2016-09-08</td>\n",
       "      <td>2016-10-07</td>\n",
       "      <td>50</td>\n",
       "      <td>Bechalor</td>\n",
       "      <td>female</td>\n",
       "      <td>3</td>\n",
       "      <td>0</td>\n",
       "    </tr>\n",
       "    <tr>\n",
       "      <th>1</th>\n",
       "      <td>5</td>\n",
       "      <td>5</td>\n",
       "      <td>PAIDOFF</td>\n",
       "      <td>300</td>\n",
       "      <td>7</td>\n",
       "      <td>2016-09-09</td>\n",
       "      <td>2016-09-15</td>\n",
       "      <td>35</td>\n",
       "      <td>Master or Above</td>\n",
       "      <td>male</td>\n",
       "      <td>4</td>\n",
       "      <td>1</td>\n",
       "    </tr>\n",
       "    <tr>\n",
       "      <th>2</th>\n",
       "      <td>21</td>\n",
       "      <td>21</td>\n",
       "      <td>PAIDOFF</td>\n",
       "      <td>1000</td>\n",
       "      <td>30</td>\n",
       "      <td>2016-09-10</td>\n",
       "      <td>2016-10-09</td>\n",
       "      <td>43</td>\n",
       "      <td>High School or Below</td>\n",
       "      <td>female</td>\n",
       "      <td>5</td>\n",
       "      <td>1</td>\n",
       "    </tr>\n",
       "    <tr>\n",
       "      <th>3</th>\n",
       "      <td>24</td>\n",
       "      <td>24</td>\n",
       "      <td>PAIDOFF</td>\n",
       "      <td>1000</td>\n",
       "      <td>30</td>\n",
       "      <td>2016-09-10</td>\n",
       "      <td>2016-10-09</td>\n",
       "      <td>26</td>\n",
       "      <td>college</td>\n",
       "      <td>male</td>\n",
       "      <td>5</td>\n",
       "      <td>1</td>\n",
       "    </tr>\n",
       "    <tr>\n",
       "      <th>4</th>\n",
       "      <td>35</td>\n",
       "      <td>35</td>\n",
       "      <td>PAIDOFF</td>\n",
       "      <td>800</td>\n",
       "      <td>15</td>\n",
       "      <td>2016-09-11</td>\n",
       "      <td>2016-09-25</td>\n",
       "      <td>29</td>\n",
       "      <td>Bechalor</td>\n",
       "      <td>male</td>\n",
       "      <td>6</td>\n",
       "      <td>1</td>\n",
       "    </tr>\n",
       "  </tbody>\n",
       "</table>\n",
       "</div>"
      ],
      "text/plain": [
       "   Unnamed: 0  Unnamed: 0.1 loan_status  Principal  terms effective_date  \\\n",
       "0           1             1     PAIDOFF       1000     30     2016-09-08   \n",
       "1           5             5     PAIDOFF        300      7     2016-09-09   \n",
       "2          21            21     PAIDOFF       1000     30     2016-09-10   \n",
       "3          24            24     PAIDOFF       1000     30     2016-09-10   \n",
       "4          35            35     PAIDOFF        800     15     2016-09-11   \n",
       "\n",
       "    due_date  age             education  Gender  dayofweek  weekend  \n",
       "0 2016-10-07   50              Bechalor  female          3        0  \n",
       "1 2016-09-15   35       Master or Above    male          4        1  \n",
       "2 2016-10-09   43  High School or Below  female          5        1  \n",
       "3 2016-10-09   26               college    male          5        1  \n",
       "4 2016-09-25   29              Bechalor    male          6        1  "
      ]
     },
     "execution_count": 58,
     "metadata": {},
     "output_type": "execute_result"
    }
   ],
   "source": [
    "# We see that people who get the loan at the end of the week dont pay it off, so lets use Feature binarization to set a threshold values less then day 4\n",
    "test_df['dayofweek'] = test_df['effective_date'].dt.dayofweek\n",
    "test_df['weekend'] = test_df['dayofweek'].apply(lambda x: 1 if (x>3)  else 0)\n",
    "test_df.head()"
   ]
  },
  {
   "cell_type": "code",
   "execution_count": 59,
   "metadata": {},
   "outputs": [
    {
     "data": {
      "text/html": [
       "<div>\n",
       "<style scoped>\n",
       "    .dataframe tbody tr th:only-of-type {\n",
       "        vertical-align: middle;\n",
       "    }\n",
       "\n",
       "    .dataframe tbody tr th {\n",
       "        vertical-align: top;\n",
       "    }\n",
       "\n",
       "    .dataframe thead th {\n",
       "        text-align: right;\n",
       "    }\n",
       "</style>\n",
       "<table border=\"1\" class=\"dataframe\">\n",
       "  <thead>\n",
       "    <tr style=\"text-align: right;\">\n",
       "      <th></th>\n",
       "      <th>Unnamed: 0</th>\n",
       "      <th>Unnamed: 0.1</th>\n",
       "      <th>loan_status</th>\n",
       "      <th>Principal</th>\n",
       "      <th>terms</th>\n",
       "      <th>effective_date</th>\n",
       "      <th>due_date</th>\n",
       "      <th>age</th>\n",
       "      <th>education</th>\n",
       "      <th>Gender</th>\n",
       "      <th>dayofweek</th>\n",
       "      <th>weekend</th>\n",
       "    </tr>\n",
       "  </thead>\n",
       "  <tbody>\n",
       "    <tr>\n",
       "      <th>0</th>\n",
       "      <td>1</td>\n",
       "      <td>1</td>\n",
       "      <td>PAIDOFF</td>\n",
       "      <td>1000</td>\n",
       "      <td>30</td>\n",
       "      <td>2016-09-08</td>\n",
       "      <td>2016-10-07</td>\n",
       "      <td>50</td>\n",
       "      <td>Bechalor</td>\n",
       "      <td>1</td>\n",
       "      <td>3</td>\n",
       "      <td>0</td>\n",
       "    </tr>\n",
       "    <tr>\n",
       "      <th>1</th>\n",
       "      <td>5</td>\n",
       "      <td>5</td>\n",
       "      <td>PAIDOFF</td>\n",
       "      <td>300</td>\n",
       "      <td>7</td>\n",
       "      <td>2016-09-09</td>\n",
       "      <td>2016-09-15</td>\n",
       "      <td>35</td>\n",
       "      <td>Master or Above</td>\n",
       "      <td>0</td>\n",
       "      <td>4</td>\n",
       "      <td>1</td>\n",
       "    </tr>\n",
       "    <tr>\n",
       "      <th>2</th>\n",
       "      <td>21</td>\n",
       "      <td>21</td>\n",
       "      <td>PAIDOFF</td>\n",
       "      <td>1000</td>\n",
       "      <td>30</td>\n",
       "      <td>2016-09-10</td>\n",
       "      <td>2016-10-09</td>\n",
       "      <td>43</td>\n",
       "      <td>High School or Below</td>\n",
       "      <td>1</td>\n",
       "      <td>5</td>\n",
       "      <td>1</td>\n",
       "    </tr>\n",
       "    <tr>\n",
       "      <th>3</th>\n",
       "      <td>24</td>\n",
       "      <td>24</td>\n",
       "      <td>PAIDOFF</td>\n",
       "      <td>1000</td>\n",
       "      <td>30</td>\n",
       "      <td>2016-09-10</td>\n",
       "      <td>2016-10-09</td>\n",
       "      <td>26</td>\n",
       "      <td>college</td>\n",
       "      <td>0</td>\n",
       "      <td>5</td>\n",
       "      <td>1</td>\n",
       "    </tr>\n",
       "    <tr>\n",
       "      <th>4</th>\n",
       "      <td>35</td>\n",
       "      <td>35</td>\n",
       "      <td>PAIDOFF</td>\n",
       "      <td>800</td>\n",
       "      <td>15</td>\n",
       "      <td>2016-09-11</td>\n",
       "      <td>2016-09-25</td>\n",
       "      <td>29</td>\n",
       "      <td>Bechalor</td>\n",
       "      <td>0</td>\n",
       "      <td>6</td>\n",
       "      <td>1</td>\n",
       "    </tr>\n",
       "  </tbody>\n",
       "</table>\n",
       "</div>"
      ],
      "text/plain": [
       "   Unnamed: 0  Unnamed: 0.1 loan_status  Principal  terms effective_date  \\\n",
       "0           1             1     PAIDOFF       1000     30     2016-09-08   \n",
       "1           5             5     PAIDOFF        300      7     2016-09-09   \n",
       "2          21            21     PAIDOFF       1000     30     2016-09-10   \n",
       "3          24            24     PAIDOFF       1000     30     2016-09-10   \n",
       "4          35            35     PAIDOFF        800     15     2016-09-11   \n",
       "\n",
       "    due_date  age             education  Gender  dayofweek  weekend  \n",
       "0 2016-10-07   50              Bechalor       1          3        0  \n",
       "1 2016-09-15   35       Master or Above       0          4        1  \n",
       "2 2016-10-09   43  High School or Below       1          5        1  \n",
       "3 2016-10-09   26               college       0          5        1  \n",
       "4 2016-09-25   29              Bechalor       0          6        1  "
      ]
     },
     "execution_count": 59,
     "metadata": {},
     "output_type": "execute_result"
    }
   ],
   "source": [
    "# Convert Categorical features to numerical values, in this case Gender Male =0, Female = 1\n",
    "test_df['Gender'].replace(to_replace=['male','female'], value=[0,1],inplace=True)\n",
    "test_df.head()"
   ]
  },
  {
   "cell_type": "code",
   "execution_count": 60,
   "metadata": {},
   "outputs": [
    {
     "data": {
      "text/html": [
       "<div>\n",
       "<style scoped>\n",
       "    .dataframe tbody tr th:only-of-type {\n",
       "        vertical-align: middle;\n",
       "    }\n",
       "\n",
       "    .dataframe tbody tr th {\n",
       "        vertical-align: top;\n",
       "    }\n",
       "\n",
       "    .dataframe thead th {\n",
       "        text-align: right;\n",
       "    }\n",
       "</style>\n",
       "<table border=\"1\" class=\"dataframe\">\n",
       "  <thead>\n",
       "    <tr style=\"text-align: right;\">\n",
       "      <th></th>\n",
       "      <th>Principal</th>\n",
       "      <th>terms</th>\n",
       "      <th>age</th>\n",
       "      <th>Gender</th>\n",
       "      <th>weekend</th>\n",
       "      <th>Bechalor</th>\n",
       "      <th>High School or Below</th>\n",
       "      <th>college</th>\n",
       "    </tr>\n",
       "  </thead>\n",
       "  <tbody>\n",
       "    <tr>\n",
       "      <th>0</th>\n",
       "      <td>1000</td>\n",
       "      <td>30</td>\n",
       "      <td>50</td>\n",
       "      <td>1</td>\n",
       "      <td>0</td>\n",
       "      <td>1</td>\n",
       "      <td>0</td>\n",
       "      <td>0</td>\n",
       "    </tr>\n",
       "    <tr>\n",
       "      <th>1</th>\n",
       "      <td>300</td>\n",
       "      <td>7</td>\n",
       "      <td>35</td>\n",
       "      <td>0</td>\n",
       "      <td>1</td>\n",
       "      <td>0</td>\n",
       "      <td>0</td>\n",
       "      <td>0</td>\n",
       "    </tr>\n",
       "    <tr>\n",
       "      <th>2</th>\n",
       "      <td>1000</td>\n",
       "      <td>30</td>\n",
       "      <td>43</td>\n",
       "      <td>1</td>\n",
       "      <td>1</td>\n",
       "      <td>0</td>\n",
       "      <td>1</td>\n",
       "      <td>0</td>\n",
       "    </tr>\n",
       "    <tr>\n",
       "      <th>3</th>\n",
       "      <td>1000</td>\n",
       "      <td>30</td>\n",
       "      <td>26</td>\n",
       "      <td>0</td>\n",
       "      <td>1</td>\n",
       "      <td>0</td>\n",
       "      <td>0</td>\n",
       "      <td>1</td>\n",
       "    </tr>\n",
       "    <tr>\n",
       "      <th>4</th>\n",
       "      <td>800</td>\n",
       "      <td>15</td>\n",
       "      <td>29</td>\n",
       "      <td>0</td>\n",
       "      <td>1</td>\n",
       "      <td>1</td>\n",
       "      <td>0</td>\n",
       "      <td>0</td>\n",
       "    </tr>\n",
       "  </tbody>\n",
       "</table>\n",
       "</div>"
      ],
      "text/plain": [
       "   Principal  terms  age  Gender  weekend  Bechalor  High School or Below  \\\n",
       "0       1000     30   50       1        0         1                     0   \n",
       "1        300      7   35       0        1         0                     0   \n",
       "2       1000     30   43       1        1         0                     1   \n",
       "3       1000     30   26       0        1         0                     0   \n",
       "4        800     15   29       0        1         1                     0   \n",
       "\n",
       "   college  \n",
       "0        0  \n",
       "1        0  \n",
       "2        0  \n",
       "3        1  \n",
       "4        0  "
      ]
     },
     "execution_count": 60,
     "metadata": {},
     "output_type": "execute_result"
    }
   ],
   "source": [
    "#One Hot Encoding: Use one hot encoding technique to conver categorical varables to binary \n",
    "Feature_Test = test_df[['Principal','terms','age','Gender','weekend']]\n",
    "Feature_Test = pd.concat([Feature_Test,pd.get_dummies(test_df['education'])], axis=1)\n",
    "Feature_Test.drop(['Master or Above'], axis = 1,inplace=True)\n",
    "Feature_Test.head()"
   ]
  },
  {
   "cell_type": "code",
   "execution_count": 61,
   "metadata": {},
   "outputs": [
    {
     "data": {
      "text/html": [
       "<div>\n",
       "<style scoped>\n",
       "    .dataframe tbody tr th:only-of-type {\n",
       "        vertical-align: middle;\n",
       "    }\n",
       "\n",
       "    .dataframe tbody tr th {\n",
       "        vertical-align: top;\n",
       "    }\n",
       "\n",
       "    .dataframe thead th {\n",
       "        text-align: right;\n",
       "    }\n",
       "</style>\n",
       "<table border=\"1\" class=\"dataframe\">\n",
       "  <thead>\n",
       "    <tr style=\"text-align: right;\">\n",
       "      <th></th>\n",
       "      <th>Principal</th>\n",
       "      <th>terms</th>\n",
       "      <th>age</th>\n",
       "      <th>Gender</th>\n",
       "      <th>weekend</th>\n",
       "      <th>Bechalor</th>\n",
       "      <th>High School or Below</th>\n",
       "      <th>college</th>\n",
       "    </tr>\n",
       "  </thead>\n",
       "  <tbody>\n",
       "    <tr>\n",
       "      <th>0</th>\n",
       "      <td>1000</td>\n",
       "      <td>30</td>\n",
       "      <td>50</td>\n",
       "      <td>1</td>\n",
       "      <td>0</td>\n",
       "      <td>1</td>\n",
       "      <td>0</td>\n",
       "      <td>0</td>\n",
       "    </tr>\n",
       "    <tr>\n",
       "      <th>1</th>\n",
       "      <td>300</td>\n",
       "      <td>7</td>\n",
       "      <td>35</td>\n",
       "      <td>0</td>\n",
       "      <td>1</td>\n",
       "      <td>0</td>\n",
       "      <td>0</td>\n",
       "      <td>0</td>\n",
       "    </tr>\n",
       "    <tr>\n",
       "      <th>2</th>\n",
       "      <td>1000</td>\n",
       "      <td>30</td>\n",
       "      <td>43</td>\n",
       "      <td>1</td>\n",
       "      <td>1</td>\n",
       "      <td>0</td>\n",
       "      <td>1</td>\n",
       "      <td>0</td>\n",
       "    </tr>\n",
       "    <tr>\n",
       "      <th>3</th>\n",
       "      <td>1000</td>\n",
       "      <td>30</td>\n",
       "      <td>26</td>\n",
       "      <td>0</td>\n",
       "      <td>1</td>\n",
       "      <td>0</td>\n",
       "      <td>0</td>\n",
       "      <td>1</td>\n",
       "    </tr>\n",
       "    <tr>\n",
       "      <th>4</th>\n",
       "      <td>800</td>\n",
       "      <td>15</td>\n",
       "      <td>29</td>\n",
       "      <td>0</td>\n",
       "      <td>1</td>\n",
       "      <td>1</td>\n",
       "      <td>0</td>\n",
       "      <td>0</td>\n",
       "    </tr>\n",
       "  </tbody>\n",
       "</table>\n",
       "</div>"
      ],
      "text/plain": [
       "   Principal  terms  age  Gender  weekend  Bechalor  High School or Below  \\\n",
       "0       1000     30   50       1        0         1                     0   \n",
       "1        300      7   35       0        1         0                     0   \n",
       "2       1000     30   43       1        1         0                     1   \n",
       "3       1000     30   26       0        1         0                     0   \n",
       "4        800     15   29       0        1         1                     0   \n",
       "\n",
       "   college  \n",
       "0        0  \n",
       "1        0  \n",
       "2        0  \n",
       "3        1  \n",
       "4        0  "
      ]
     },
     "execution_count": 61,
     "metadata": {},
     "output_type": "execute_result"
    }
   ],
   "source": [
    "#Feature selection from Feature_Test into a new data frame: test_input\n",
    "test_input = Feature_Test\n",
    "test_input[0:5]"
   ]
  },
  {
   "cell_type": "code",
   "execution_count": 62,
   "metadata": {},
   "outputs": [
    {
     "data": {
      "text/plain": [
       "array(['PAIDOFF', 'PAIDOFF', 'PAIDOFF', 'PAIDOFF', 'PAIDOFF'],\n",
       "      dtype=object)"
      ]
     },
     "execution_count": 62,
     "metadata": {},
     "output_type": "execute_result"
    }
   ],
   "source": [
    "#new dataframe to be compared with the result of classifier: \"test_input\" vs \"test_output\" and get the label to predict: loan_status\n",
    "test_output = test_df['loan_status'].values\n",
    "test_output[0:5]"
   ]
  },
  {
   "cell_type": "code",
   "execution_count": 63,
   "metadata": {},
   "outputs": [
    {
     "data": {
      "text/plain": [
       "array([[ 0.49,  0.93,  3.06,  1.98, -1.3 ,  2.4 , -0.8 , -0.86],\n",
       "       [-3.56, -1.7 ,  0.53, -0.51,  0.77, -0.42, -0.8 , -0.86],\n",
       "       [ 0.49,  0.93,  1.88,  1.98,  0.77, -0.42,  1.25, -0.86],\n",
       "       [ 0.49,  0.93, -0.98, -0.51,  0.77, -0.42, -0.8 ,  1.16],\n",
       "       [-0.67, -0.79, -0.48, -0.51,  0.77,  2.4 , -0.8 , -0.86]])"
      ]
     },
     "execution_count": 63,
     "metadata": {},
     "output_type": "execute_result"
    }
   ],
   "source": [
    "#normalize the data and given the final input to classifier\n",
    "test_input= preprocessing.StandardScaler().fit(test_input).transform(test_input)\n",
    "test_input[0:5]"
   ]
  },
  {
   "cell_type": "code",
   "execution_count": 64,
   "metadata": {},
   "outputs": [
    {
     "data": {
      "text/plain": [
       "0.6862745098039216"
      ]
     },
     "execution_count": 64,
     "metadata": {},
     "output_type": "execute_result"
    }
   ],
   "source": [
    "#K nearest neighbors\n",
    "knn_pred = neigh.predict(test_input)\n",
    "knn_jaccard = jaccard_score(test_output, knn_pred, pos_label = \"PAIDOFF\")\n",
    "knn_jaccard"
   ]
  },
  {
   "cell_type": "code",
   "execution_count": 65,
   "metadata": {},
   "outputs": [
    {
     "data": {
      "text/plain": [
       "0.7608695652173914"
      ]
     },
     "execution_count": 65,
     "metadata": {},
     "output_type": "execute_result"
    }
   ],
   "source": [
    "#decision tree\n",
    "tree_pred =LoanTree.predict(test_input)\n",
    "tree_jaccard = jaccard_score(test_output, tree_pred, pos_label = \"PAIDOFF\")\n",
    "tree_jaccard"
   ]
  },
  {
   "cell_type": "code",
   "execution_count": 66,
   "metadata": {},
   "outputs": [
    {
     "data": {
      "text/plain": [
       "0.78"
      ]
     },
     "execution_count": 66,
     "metadata": {},
     "output_type": "execute_result"
    }
   ],
   "source": [
    "#support vector machine\n",
    "svm_pred = svm_object.predict(test_input)\n",
    "svm_jaccard = jaccard_score(test_output, svm_pred, pos_label = \"PAIDOFF\")\n",
    "svm_jaccard"
   ]
  },
  {
   "cell_type": "code",
   "execution_count": 67,
   "metadata": {},
   "outputs": [
    {
     "data": {
      "text/plain": [
       "0.7358490566037735"
      ]
     },
     "execution_count": 67,
     "metadata": {},
     "output_type": "execute_result"
    }
   ],
   "source": [
    "#logistic regression   \n",
    "LogRegObj_2 = LogReg.predict(test_input)\n",
    "logR_jaccard = jaccard_score(test_output, LogRegObj_2, pos_label = \"PAIDOFF\")\n",
    "logR_jaccard"
   ]
  },
  {
   "cell_type": "code",
   "execution_count": 68,
   "metadata": {},
   "outputs": [
    {
     "data": {
      "text/plain": [
       "0.813953488372093"
      ]
     },
     "execution_count": 68,
     "metadata": {},
     "output_type": "execute_result"
    }
   ],
   "source": [
    "#K nearest neighbors\n",
    "knn_f1 = f1_score(test_output, knn_pred, pos_label='PAIDOFF')\n",
    "knn_f1"
   ]
  },
  {
   "cell_type": "code",
   "execution_count": 69,
   "metadata": {},
   "outputs": [
    {
     "data": {
      "text/plain": [
       "0.8641975308641976"
      ]
     },
     "execution_count": 69,
     "metadata": {},
     "output_type": "execute_result"
    }
   ],
   "source": [
    "#decision tree\n",
    "tree_f1 = f1_score(test_output, tree_pred, pos_label='PAIDOFF')\n",
    "tree_f1"
   ]
  },
  {
   "cell_type": "code",
   "execution_count": 70,
   "metadata": {},
   "outputs": [
    {
     "data": {
      "text/plain": [
       "0.8764044943820225"
      ]
     },
     "execution_count": 70,
     "metadata": {},
     "output_type": "execute_result"
    }
   ],
   "source": [
    "#support vector machine\n",
    "svm_f1 = f1_score(test_output, svm_pred, pos_label='PAIDOFF')\n",
    "svm_f1"
   ]
  },
  {
   "cell_type": "code",
   "execution_count": 71,
   "metadata": {},
   "outputs": [
    {
     "data": {
      "text/plain": [
       "0.8478260869565216"
      ]
     },
     "execution_count": 71,
     "metadata": {},
     "output_type": "execute_result"
    }
   ],
   "source": [
    "#logistic regression\n",
    "LogRegObj_3 = LogReg.predict(test_input)\n",
    "logR_f1 = f1_score(test_output, LogRegObj_3, pos_label='PAIDOFF')\n",
    "logR_f1"
   ]
  },
  {
   "cell_type": "code",
   "execution_count": 72,
   "metadata": {},
   "outputs": [
    {
     "data": {
      "text/plain": [
       "0.5672153379912981"
      ]
     },
     "execution_count": 72,
     "metadata": {},
     "output_type": "execute_result"
    }
   ],
   "source": [
    "#logistic regression\n",
    "LogRegObj_4 = LogReg.predict_proba(test_input)\n",
    "LogR_logloss = log_loss(test_output, LogRegObj_4)\n",
    "LogR_logloss"
   ]
  },
  {
   "cell_type": "code",
   "execution_count": 73,
   "metadata": {},
   "outputs": [],
   "source": [
    "Algoritms=['KNN','Decision Tree','SVM','LogisticRegression']\n",
    "Jaccard=[knn_jaccard,tree_jaccard,svm_jaccard,logR_jaccard]\n",
    "F1_score = [knn_f1,tree_f1,svm_f1,logR_f1]\n",
    "LogLoss =['NA','NA','NA',LogR_logloss]\n",
    "\n",
    "report_table = pd.DataFrame({\n",
    "    \"Algorithm\": Algoritms,\n",
    "    \"Jaccard\": Jaccard,\n",
    "    \"F1-score\": F1_score,\n",
    "    \"LogLoss\":LogLoss})"
   ]
  },
  {
   "cell_type": "code",
   "execution_count": 74,
   "metadata": {},
   "outputs": [
    {
     "data": {
      "text/html": [
       "<style  type=\"text/css\" >\n",
       "</style><table id=\"T_b62f7_\" ><thead>    <tr>        <th class=\"col_heading level0 col0\" >Algorithm</th>        <th class=\"col_heading level0 col1\" >Jaccard</th>        <th class=\"col_heading level0 col2\" >F1-score</th>        <th class=\"col_heading level0 col3\" >LogLoss</th>    </tr></thead><tbody>\n",
       "                <tr>\n",
       "                                <td id=\"T_b62f7_row0_col0\" class=\"data row0 col0\" >KNN</td>\n",
       "                        <td id=\"T_b62f7_row0_col1\" class=\"data row0 col1\" >0.686275</td>\n",
       "                        <td id=\"T_b62f7_row0_col2\" class=\"data row0 col2\" >0.813953</td>\n",
       "                        <td id=\"T_b62f7_row0_col3\" class=\"data row0 col3\" >NA</td>\n",
       "            </tr>\n",
       "            <tr>\n",
       "                                <td id=\"T_b62f7_row1_col0\" class=\"data row1 col0\" >Decision Tree</td>\n",
       "                        <td id=\"T_b62f7_row1_col1\" class=\"data row1 col1\" >0.760870</td>\n",
       "                        <td id=\"T_b62f7_row1_col2\" class=\"data row1 col2\" >0.864198</td>\n",
       "                        <td id=\"T_b62f7_row1_col3\" class=\"data row1 col3\" >NA</td>\n",
       "            </tr>\n",
       "            <tr>\n",
       "                                <td id=\"T_b62f7_row2_col0\" class=\"data row2 col0\" >SVM</td>\n",
       "                        <td id=\"T_b62f7_row2_col1\" class=\"data row2 col1\" >0.780000</td>\n",
       "                        <td id=\"T_b62f7_row2_col2\" class=\"data row2 col2\" >0.876404</td>\n",
       "                        <td id=\"T_b62f7_row2_col3\" class=\"data row2 col3\" >NA</td>\n",
       "            </tr>\n",
       "            <tr>\n",
       "                                <td id=\"T_b62f7_row3_col0\" class=\"data row3 col0\" >LogisticRegression</td>\n",
       "                        <td id=\"T_b62f7_row3_col1\" class=\"data row3 col1\" >0.735849</td>\n",
       "                        <td id=\"T_b62f7_row3_col2\" class=\"data row3 col2\" >0.847826</td>\n",
       "                        <td id=\"T_b62f7_row3_col3\" class=\"data row3 col3\" >0.567215</td>\n",
       "            </tr>\n",
       "    </tbody></table>"
      ],
      "text/plain": [
       "<pandas.io.formats.style.Styler at 0x1e62686f700>"
      ]
     },
     "execution_count": 74,
     "metadata": {},
     "output_type": "execute_result"
    }
   ],
   "source": [
    "report_table.style.hide_index()"
   ]
  },
  {
   "cell_type": "markdown",
   "metadata": {},
   "source": [
    "# Report\n",
    "\n",
    "You should be able to report the accuracy of the built model using different evaluation metrics:\n"
   ]
  },
  {
   "cell_type": "markdown",
   "metadata": {},
   "source": [
    "| Algorithm          | Jaccard | F1-score | LogLoss |\n",
    "| ------------------ | ------- | -------- | ------- |\n",
    "| KNN                | ?       | ?        | NA      |\n",
    "| Decision Tree      | ?       | ?        | NA      |\n",
    "| SVM                | ?       | ?        | NA      |\n",
    "| LogisticRegression | ?       | ?        | ?       |\n"
   ]
  },
  {
   "cell_type": "markdown",
   "metadata": {
    "button": false,
    "new_sheet": false,
    "run_control": {
     "read_only": false
    }
   },
   "source": [
    "<h2>Want to learn more?</h2>\n",
    "\n",
    "IBM SPSS Modeler is a comprehensive analytics platform that has many machine learning algorithms. It has been designed to bring predictive intelligence to decisions made by individuals, by groups, by systems – by your enterprise as a whole. A free trial is available through this course, available here: <a href=\"http://cocl.us/ML0101EN-SPSSModeler?utm_medium=Exinfluencer&utm_source=Exinfluencer&utm_content=000026UJ&utm_term=10006555&utm_id=NA-SkillsNetwork-Channel-SkillsNetworkCoursesIBMDeveloperSkillsNetworkML0101ENSkillsNetwork20718538-2021-01-01\">SPSS Modeler</a>\n",
    "\n",
    "Also, you can use Watson Studio to run these notebooks faster with bigger datasets. Watson Studio is IBM's leading cloud solution for data scientists, built by data scientists. With Jupyter notebooks, RStudio, Apache Spark and popular libraries pre-packaged in the cloud, Watson Studio enables data scientists to collaborate on their projects without having to install anything. Join the fast-growing community of Watson Studio users today with a free account at <a href=\"https://cocl.us/ML0101EN_DSX?utm_medium=Exinfluencer&utm_source=Exinfluencer&utm_content=000026UJ&utm_term=10006555&utm_id=NA-SkillsNetwork-Channel-SkillsNetworkCoursesIBMDeveloperSkillsNetworkML0101ENSkillsNetwork20718538-2021-01-01\">Watson Studio</a>\n",
    "\n",
    "<h3>Thanks for completing this lesson!</h3>\n",
    "\n",
    "<h4>Author:  <a href=\"https://ca.linkedin.com/in/saeedaghabozorgi?utm_medium=Exinfluencer&utm_source=Exinfluencer&utm_content=000026UJ&utm_term=10006555&utm_id=NA-SkillsNetwork-Channel-SkillsNetworkCoursesIBMDeveloperSkillsNetworkML0101ENSkillsNetwork20718538-2021-01-01?utm_medium=Exinfluencer&utm_source=Exinfluencer&utm_content=000026UJ&utm_term=10006555&utm_id=NA-SkillsNetwork-Channel-SkillsNetworkCoursesIBMDeveloperSkillsNetworkML0101ENSkillsNetwork20718538-2021-01-01\">Saeed Aghabozorgi</a></h4>\n",
    "<p><a href=\"https://ca.linkedin.com/in/saeedaghabozorgi\">Saeed Aghabozorgi</a>, PhD is a Data Scientist in IBM with a track record of developing enterprise level applications that substantially increases clients’ ability to turn data into actionable knowledge. He is a researcher in data mining field and expert in developing advanced analytic methods like machine learning and statistical modelling on large datasets.</p>\n",
    "\n",
    "<hr>\n",
    "\n",
    "## Change Log\n",
    "\n",
    "| Date (YYYY-MM-DD) | Version | Changed By    | Change Description                                                             |\n",
    "| ----------------- | ------- | ------------- | ------------------------------------------------------------------------------ |\n",
    "| 2020-10-27        | 2.1     | Lakshmi Holla | Made changes in import statement due to updates in version of  sklearn library |\n",
    "| 2020-08-27        | 2.0     | Malika Singla | Added lab to GitLab                                                            |\n",
    "\n",
    "<hr>\n",
    "\n",
    "## <h3 align=\"center\"> © IBM Corporation 2020. All rights reserved. <h3/>\n",
    "\n",
    "<p>\n"
   ]
  }
 ],
 "metadata": {
  "kernelspec": {
   "display_name": "Python 3",
   "language": "python",
   "name": "python3"
  },
  "language_info": {
   "codemirror_mode": {
    "name": "ipython",
    "version": 3
   },
   "file_extension": ".py",
   "mimetype": "text/x-python",
   "name": "python",
   "nbconvert_exporter": "python",
   "pygments_lexer": "ipython3",
   "version": "3.8.8"
  }
 },
 "nbformat": 4,
 "nbformat_minor": 2
}
