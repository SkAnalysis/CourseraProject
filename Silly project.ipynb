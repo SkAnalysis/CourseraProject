{
 "cells": [
  {
   "cell_type": "markdown",
   "id": "ffbfca01",
   "metadata": {},
   "source": [
    "# My Jupyter Notebook on IBM Watson Studio"
   ]
  },
  {
   "cell_type": "markdown",
   "id": "8b086000",
   "metadata": {},
   "source": [
    "__Suad Kurić__\n",
    "<br> Data Scientist"
   ]
  },
  {
   "cell_type": "markdown",
   "id": "462c6403",
   "metadata": {},
   "source": [
    "_I am interested in data science because I love analysig customer behaviour._"
   ]
  },
  {
   "cell_type": "markdown",
   "id": "f7430584",
   "metadata": {},
   "source": [
    "### Just print stuff"
   ]
  },
  {
   "cell_type": "code",
   "execution_count": 1,
   "id": "d6ee3fdb",
   "metadata": {},
   "outputs": [
    {
     "name": "stdout",
     "output_type": "stream",
     "text": [
      "My name is Suad Kurić\n"
     ]
    }
   ],
   "source": [
    "print('My name is Suad Kurić')"
   ]
  },
  {
   "cell_type": "markdown",
   "id": "e2c2baff",
   "metadata": {},
   "source": [
    "- one\n",
    "- two\n",
    "\n",
    "1. one\n",
    "2. two\n",
    "\n",
    "__[Google](http://www.google.com)__"
   ]
  },
  {
   "cell_type": "code",
   "execution_count": null,
   "id": "dd38c4ba",
   "metadata": {},
   "outputs": [],
   "source": []
  }
 ],
 "metadata": {
  "kernelspec": {
   "display_name": "Python 3",
   "language": "python",
   "name": "python3"
  },
  "language_info": {
   "codemirror_mode": {
    "name": "ipython",
    "version": 3
   },
   "file_extension": ".py",
   "mimetype": "text/x-python",
   "name": "python",
   "nbconvert_exporter": "python",
   "pygments_lexer": "ipython3",
   "version": "3.8.8"
  }
 },
 "nbformat": 4,
 "nbformat_minor": 5
}
